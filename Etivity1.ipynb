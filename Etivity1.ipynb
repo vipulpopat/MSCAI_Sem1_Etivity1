{
 "cells": [
  {
   "cell_type": "code",
   "execution_count": 2,
   "metadata": {
    "collapsed": true
   },
   "outputs": [],
   "source": [
    "import matplotlib.pyplot as plt\n",
    "import numpy as np\n",
    "from sklearn.datasets import make_moons\n",
    "from sklearn.linear_model import LogisticRegression\n",
    "from sklearn import preprocessing\n",
    "import math\n",
    "from sklearn.datasets.samples_generator import make_blobs\n",
    "from sklearn.model_selection import train_test_split\n",
    "import pandas as pd"
   ]
  },
  {
   "cell_type": "markdown",
   "metadata": {},
   "source": [
    "Suggestion: try PLA on this dataset before using the bank dataset"
   ]
  },
  {
   "cell_type": "code",
   "execution_count": 3,
   "metadata": {},
   "outputs": [],
   "source": [
    "X, y = make_blobs(n_samples=1000, centers=2, n_features=2)\n",
    "y = [yy if yy == 1 else -1 for yy in y] "
   ]
  },
  {
   "cell_type": "code",
   "execution_count": 6,
   "metadata": {
    "collapsed": true
   },
   "outputs": [],
   "source": [
    "def h(x,w):\n",
    "    #Perceptron model: the sign of the dot product of weights and input vector determines the class allocation\n",
    "    bias = np.array([1])\n",
    "    return np.sign(w.T.dot(np.concatenate((bias,x))))"
   ]
  },
  {
   "cell_type": "code",
   "execution_count": 7,
   "metadata": {
    "collapsed": true
   },
   "outputs": [],
   "source": [
    "def point_on_boundary(weights, x):\n",
    "    # Return the y-position on the boundary based on given x-position\n",
    "    return -(weights[0]+weights[1]*x)/weights[2]"
   ]
  },
  {
   "cell_type": "code",
   "execution_count": 8,
   "metadata": {
    "collapsed": true
   },
   "outputs": [],
   "source": [
    "def decision_boundary(weights, x_min, x_max):\n",
    "    # Return two points on the decision boundary\n",
    "    return [pointOnBoundary(x_min), pointOnBoundary(x_max)]"
   ]
  },
  {
   "cell_type": "code",
   "execution_count": 9,
   "metadata": {
    "collapsed": true
   },
   "outputs": [],
   "source": [
    "def pla(training_in, training_out, weights):\n",
    "    bias = np.array([1])\n",
    "    iterations=0\n",
    "    while True:\n",
    "        errors = 0;\n",
    "        for x,y in zip(training_in, training_out):\n",
    "            if (h(x,weights)!=y):\n",
    "                iterations+=1;\n",
    "                weights = weights + y*(np.concatenate((bias,x)))\n",
    "                errors+=1;\n",
    "        if (errors == 0):\n",
    "            break\n",
    "    return weights, iterations"
   ]
  },
  {
   "cell_type": "code",
   "execution_count": 10,
   "metadata": {
    "collapsed": true
   },
   "outputs": [],
   "source": [
    "def calc_error(training_in, training_out, weights):\n",
    "    # Calculate the classification error as the fraction of training samples that are misclassified\n",
    "    errors=0\n",
    "    for x,y in zip(training_in, training_out):\n",
    "        if (h(x,weights)!=y):\n",
    "            errors+=1;\n",
    "    return errors/len(training_in)"
   ]
  }
 ],
 "metadata": {
  "kernelspec": {
   "display_name": "Python 3",
   "language": "python",
   "name": "python3"
  },
  "language_info": {
   "codemirror_mode": {
    "name": "ipython",
    "version": 3
   },
   "file_extension": ".py",
   "mimetype": "text/x-python",
   "name": "python",
   "nbconvert_exporter": "python",
   "pygments_lexer": "ipython3",
   "version": "3.6.6"
  }
 },
 "nbformat": 4,
 "nbformat_minor": 2
}
