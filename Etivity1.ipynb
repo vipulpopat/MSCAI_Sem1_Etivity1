{
 "cells": [
  {
   "cell_type": "code",
   "execution_count": 2,
   "metadata": {},
   "outputs": [],
   "source": [
    "import matplotlib.pyplot as plt\n",
    "import numpy as np\n",
    "from sklearn.datasets import make_moons\n",
    "from sklearn.linear_model import LogisticRegression\n",
    "from sklearn import preprocessing\n",
    "import math\n",
    "from sklearn.datasets.samples_generator import make_blobs\n",
    "from sklearn.model_selection import train_test_split\n",
    "import pandas as pd"
   ]
  },
  {
   "cell_type": "markdown",
   "metadata": {},
   "source": [
    "Suggestion: try PLA on this dataset before using the bank dataset"
   ]
  },
  {
   "cell_type": "code",
   "execution_count": 114,
   "metadata": {},
   "outputs": [],
   "source": [
    "#X, y = make_blobs(n_samples=1000, centers=2, n_features=2)\n",
    "X, y = make_blobs(n_samples=100, centers=2, n_features=2)\n",
    "#X, y = make_moons(n_samples=1000, noise=0.15)\n",
    "y = [yy if yy == 1 else -1 for yy in y] "
   ]
  },
  {
   "cell_type": "code",
   "execution_count": 106,
   "metadata": {},
   "outputs": [],
   "source": [
    "def h(x,w):\n",
    "    #Perceptron model: the sign of the dot product of weights and input vector determines the class allocation\n",
    "    bias = np.array([1])\n",
    "    return np.sign(w.T.dot(np.concatenate((bias,x))))"
   ]
  },
  {
   "cell_type": "code",
   "execution_count": 107,
   "metadata": {},
   "outputs": [],
   "source": [
    "def point_on_boundary(weights, x):\n",
    "    # Return the y-position on the boundary based on given x-position\n",
    "    return -(weights[0]+weights[1]*x)/weights[2]"
   ]
  },
  {
   "cell_type": "code",
   "execution_count": 108,
   "metadata": {},
   "outputs": [],
   "source": [
    "def decision_boundary(weights, x_min, x_max):\n",
    "    # Return two points on the decision boundary\n",
    "    # MPP return [pointOnBoundary(x_min), pointOnBoundary(x_max)]\n",
    "    return [point_on_boundary(weights, x_min), point_on_boundary(weights, x_max)]"
   ]
  },
  {
   "cell_type": "code",
   "execution_count": 109,
   "metadata": {},
   "outputs": [],
   "source": [
    "def pla(training_in, training_out, weights):\n",
    "    bias = np.array([1])\n",
    "    iterations=0\n",
    "    while True:\n",
    "        errors = 0;\n",
    "        for x,y in zip(training_in, training_out):\n",
    "            #print(x,weights, h(x,weights),y)\n",
    "            #print(h(x,weights)[0],y)\n",
    "            #print(\"test\")\n",
    "            #if None:\n",
    "            if (h(x,weights)[0]!=y):\n",
    "                iterations+=1;\n",
    "                # MPP weights = weights + y*(np.concatenate((bias,x)))\n",
    "                weights = (weights.T + y*(np.concatenate((bias,x)))).T\n",
    "                errors+=1;\n",
    "                print(\"Iterations = \", iterations, \"Weights = \", weights)\n",
    "        if (errors == 0):\n",
    "            break\n",
    "    return weights, iterations"
   ]
  },
  {
   "cell_type": "code",
   "execution_count": 110,
   "metadata": {},
   "outputs": [],
   "source": [
    "def calc_error(training_in, training_out, weights):\n",
    "    # Calculate the classification error as the fraction of training samples that are misclassified\n",
    "    errors=0\n",
    "    for x,y in zip(training_in, training_out):\n",
    "        if (h(x,weights)!=y):\n",
    "            errors+=1;\n",
    "    return errors/len(training_in)"
   ]
  },
  {
   "cell_type": "markdown",
   "metadata": {},
   "source": [
    "*** BLOB ***"
   ]
  },
  {
   "cell_type": "code",
   "execution_count": 115,
   "metadata": {},
   "outputs": [
    {
     "data": {
      "image/png": "[encoded data removed]",
      "text/plain": [
       "<Figure size 720x360 with 1 Axes>"
      ]
     },
     "metadata": {},
     "output_type": "display_data"
    }
   ],
   "source": [
    "# Visualize the Data from make_blobs\n",
    "\n",
    "# Assign colours based on the labels (1,-1) = (steelblue,darkred)\n",
    "colors = ['steelblue' if label == 1 else 'darkred' for label in y]\n",
    "\n",
    "# Plot Blob Data\n",
    "plt.rcParams[\"figure.figsize\"] = (10, 5) \n",
    "plt.scatter(X[:,0], X[:,1], color=colors) \n",
    "plt.show() "
   ]
  },
  {
   "cell_type": "code",
   "execution_count": 116,
   "metadata": {},
   "outputs": [
    {
     "name": "stdout",
     "output_type": "stream",
     "text": [
      "Iterations =  1 Weights =  [[0.        ]\n",
      " [0.2975591 ]\n",
      " [6.71286616]]\n"
     ]
    }
   ],
   "source": [
    "#bias = np.array([1])\n",
    "#print(bias)\n",
    "#print(X.shape)\n",
    "weights = np.zeros([3,1])\n",
    "#print(weights[0])\n",
    "weights[0] = 1\n",
    "#print(weights[0])\n",
    "#iterations = 0\n",
    "#print(weights)\n",
    "#print(weights.shape)\n",
    "weights, iterations = pla(X, y, weights)\n",
    "# for a,b in zip(X, y):\n",
    "#     print(a,b, a.shape)\n",
    "#     bias = np.array([1])\n",
    "#     c = (np.concatenate((bias,a)))\n",
    "#     print(c,c.shape)\n",
    "    "
   ]
  },
  {
   "cell_type": "code",
   "execution_count": 117,
   "metadata": {},
   "outputs": [
    {
     "name": "stdout",
     "output_type": "stream",
     "text": [
      "[[-2.97559102e-01 -6.71286616e+00]\n",
      " [-2.08190565e+00 -6.27798419e+00]\n",
      " [-6.13833832e-01 -7.31617623e+00]\n",
      " [-1.93956152e-01 -6.11869988e+00]\n",
      " [-8.20701866e-01 -7.71575713e+00]\n",
      " [-6.69809004e-01 -4.25209305e+00]\n",
      " [ 1.92707687e+00  5.84536165e+00]\n",
      " [ 2.06159468e-01  5.92637287e+00]\n",
      " [ 1.35361885e+00  4.26331683e+00]\n",
      " [ 2.80539718e-01  4.57623501e+00]\n",
      " [ 1.49663946e+00  4.83668155e+00]\n",
      " [-1.43331041e+00 -6.31440734e+00]\n",
      " [ 9.34319485e-02 -8.53562910e+00]\n",
      " [ 1.31378804e+00  6.29780156e+00]\n",
      " [ 1.90958236e+00  7.84562705e+00]\n",
      " [ 5.20851599e-01  6.30102173e+00]\n",
      " [-1.57330724e+00 -6.95316109e+00]\n",
      " [-2.22510979e+00 -6.36260852e+00]\n",
      " [ 6.71426044e-01  5.15819427e+00]\n",
      " [ 6.96089845e-02  6.08052885e+00]\n",
      " [ 1.39870842e+00  4.24008690e+00]\n",
      " [-5.03483911e-01 -6.46797426e+00]\n",
      " [ 3.07786482e-01  5.45697031e+00]\n",
      " [ 1.09710682e+00  5.46749610e+00]\n",
      " [ 1.19140844e-01  5.79850234e+00]\n",
      " [ 1.18693114e+00  4.73339253e+00]\n",
      " [-2.74133572e+00 -7.90872862e+00]\n",
      " [ 7.49661425e-01  5.58803623e+00]\n",
      " [-7.88301124e-01 -7.68625890e+00]\n",
      " [-8.98591997e-01 -6.56867825e+00]\n",
      " [ 1.91882887e+00  6.74892422e+00]\n",
      " [ 2.59248590e-01  6.20402971e+00]\n",
      " [-5.60671872e-01 -8.71949189e+00]\n",
      " [ 2.37709955e-01 -6.53953363e+00]\n",
      " [ 1.99244077e+00  4.84061961e+00]\n",
      " [-4.61895088e-01 -6.87417433e+00]\n",
      " [ 4.60796551e-01 -4.90430341e+00]\n",
      " [ 1.24546714e+00  5.41330669e+00]\n",
      " [-4.80030604e-02 -6.30176225e+00]\n",
      " [-4.92241588e-01 -7.46732746e+00]\n",
      " [-1.47114996e+00 -7.94906545e+00]\n",
      " [-1.38549701e+00 -6.63448922e+00]\n",
      " [ 1.38228697e+00  5.37917989e+00]\n",
      " [ 2.07990434e-01 -7.69316768e+00]\n",
      " [-2.42775616e+00 -6.46906060e+00]\n",
      " [-1.55877579e+00 -7.56403832e+00]\n",
      " [ 1.74487332e+00  5.65186143e+00]\n",
      " [ 3.14144770e-01  5.63702230e+00]\n",
      " [-1.45851209e+00 -7.41339856e+00]\n",
      " [-4.67166325e-01 -6.74762016e+00]\n",
      " [ 3.64658682e-01 -6.02973517e+00]\n",
      " [ 2.30819202e+00  5.64391233e+00]\n",
      " [-1.37028885e+00 -5.98254363e+00]\n",
      " [-9.59362412e-01 -7.34872364e+00]\n",
      " [ 4.97960219e-01  6.26576683e+00]\n",
      " [ 2.10686436e+00  5.65975794e+00]\n",
      " [ 9.44422168e-02  6.78353313e+00]\n",
      " [-8.78236772e-01 -6.00286180e+00]\n",
      " [-8.36824646e-01 -5.97866936e+00]\n",
      " [ 9.22652963e-01  5.47831159e+00]\n",
      " [ 2.69058712e+00  4.03546153e+00]\n",
      " [ 7.47917002e-01  5.16795866e+00]\n",
      " [ 4.59430064e-02 -5.88690300e+00]\n",
      " [ 2.13602904e-02  5.64778570e+00]\n",
      " [-1.57068486e+00 -7.57855594e+00]\n",
      " [ 2.78106719e-01  5.29480709e+00]\n",
      " [ 7.11072781e-01  4.41277216e+00]\n",
      " [ 2.66351474e+00  4.37285973e+00]\n",
      " [-1.80978118e+00 -6.95580048e+00]\n",
      " [-1.20961672e+00 -6.00772671e+00]\n",
      " [ 1.43166242e-01  4.56552795e+00]\n",
      " [ 1.75712781e+00  6.76421253e+00]\n",
      " [ 1.61077007e+00  5.67490025e+00]\n",
      " [-2.06456787e-01  5.14437349e+00]\n",
      " [-1.05005132e+00 -5.35945228e+00]\n",
      " [ 3.20100431e+00  5.50238008e+00]\n",
      " [-1.64370862e+00 -6.02415677e+00]\n",
      " [-2.27367019e+00 -6.09125175e+00]\n",
      " [-4.78829920e-01 -6.25038931e+00]\n",
      " [ 4.74589625e-01  6.41164854e+00]\n",
      " [ 3.39703381e-01  6.22104996e+00]\n",
      " [ 1.00888651e+00  4.21837605e+00]\n",
      " [-2.05373382e+00 -6.62128085e+00]\n",
      " [-1.03961585e+00 -6.88021015e+00]\n",
      " [ 8.14009559e-01  4.95990474e+00]\n",
      " [-1.12366380e+00 -5.77133917e+00]\n",
      " [-1.55155618e-03 -7.80778283e+00]\n",
      " [ 2.38707950e+00  6.06197829e+00]\n",
      " [-1.97496822e+00 -6.59832876e+00]\n",
      " [ 7.01104576e-01  8.11247670e+00]\n",
      " [-6.84875629e-01 -7.13197023e+00]\n",
      " [ 7.43679233e-01  4.82998815e+00]\n",
      " [-5.19622724e-01 -6.96057356e+00]\n",
      " [ 1.47678539e+00  6.47217754e+00]\n",
      " [ 6.88030747e-01  7.58886513e+00]\n",
      " [ 2.82666079e+00  4.13002393e+00]\n",
      " [-1.46551823e+00 -7.53335302e+00]\n",
      " [ 1.63680888e-01 -6.32491071e+00]\n",
      " [-8.35115520e-02 -7.47593883e+00]\n",
      " [-6.79347647e-01  6.10712414e+00]]\n",
      "[-1, -1, -1, -1, -1, -1, 1, 1, 1, 1, 1, -1, -1, 1, 1, 1, -1, -1, 1, 1, 1, -1, 1, 1, 1, 1, -1, 1, -1, -1, 1, 1, -1, -1, 1, -1, -1, 1, -1, -1, -1, -1, 1, -1, -1, -1, 1, 1, -1, -1, -1, 1, -1, -1, 1, 1, 1, -1, -1, 1, 1, 1, -1, 1, -1, 1, 1, 1, -1, -1, 1, 1, 1, 1, -1, 1, -1, -1, -1, 1, 1, 1, -1, -1, 1, -1, -1, 1, -1, 1, -1, 1, -1, 1, 1, 1, -1, -1, -1, 1]\n",
      "[-2.74133572  3.20100431]\n",
      "[ 0.12151432 -0.14188991]\n"
     ]
    },
    {
     "data": {
      "image/png": "[encoded data removed]",
      "text/plain": [
       "<Figure size 720x360 with 1 Axes>"
      ]
     },
     "metadata": {},
     "output_type": "display_data"
    },
    {
     "name": "stdout",
     "output_type": "stream",
     "text": [
      "-2.7413357152741344\n",
      "(100, 2)\n"
     ]
    }
   ],
   "source": [
    "y_bound = np.zeros([2])\n",
    "X_bound = np.zeros([2])\n",
    "X_bound[0] = X[:,0].min()# X.min()\n",
    "X_bound[1] = X[:,0].max()#X.max()\n",
    "\n",
    "y_bound[0], y_bound[1] = decision_boundary(weights, X_bound[0], X_bound[1])\n",
    "\n",
    "print(X)\n",
    "print(y)\n",
    "print(X_bound)\n",
    "print(y_bound)\n",
    "plt.plot(X_bound, y_bound)\n",
    "plt.scatter(X[:,0], X[:,1], color=colors) \n",
    "plt.show()\n",
    "\n",
    "print(X[:,0].min())\n",
    "print(X.shape)"
   ]
  },
  {
   "cell_type": "code",
   "execution_count": 118,
   "metadata": {},
   "outputs": [
    {
     "name": "stdout",
     "output_type": "stream",
     "text": [
      "[1 2]\n",
      "(2,)\n",
      "[1 1 2]\n",
      "(3,)\n",
      "[[1]\n",
      " [2]\n",
      " [3]]\n",
      "(3, 1)\n",
      "[9]\n",
      "[[0.]\n",
      " [0.]\n",
      " [0.]]\n"
     ]
    }
   ],
   "source": [
    "xa = np.array([1,2])\n",
    "print(xa)\n",
    "print(xa.shape)\n",
    "xa2 = np.concatenate((bias,xa))\n",
    "print(xa2)\n",
    "print(xa2.shape)\n",
    "wa = np.array([[1], [2], [3]],)\n",
    "print(wa)\n",
    "print(wa.shape)\n",
    "result = wa.T.dot(np.concatenate((bias,xa)))\n",
    "print(result)\n",
    "w2 = np.zeros([3,1])\n",
    "print(w2)"
   ]
  },
  {
   "cell_type": "code",
   "execution_count": 119,
   "metadata": {},
   "outputs": [
    {
     "name": "stdout",
     "output_type": "stream",
     "text": [
      "[[1.]\n",
      " [0.]\n",
      " [0.]]\n",
      "[[ 0.]\n",
      " [-1.]\n",
      " [-2.]]\n"
     ]
    }
   ],
   "source": [
    "bias = np.array([1])\n",
    "x = np.array([1, 2])\n",
    "y = np.array([-1])\n",
    "weights = np.zeros([3,1])\n",
    "#print(weights[0])\n",
    "weights[0] = 1\n",
    "print(weights)\n",
    "weights = (weights.T + y*(np.concatenate((bias,x)))).T\n",
    "print(weights)"
   ]
  },
  {
   "cell_type": "code",
   "execution_count": null,
   "metadata": {},
   "outputs": [],
   "source": []
  },
  {
   "cell_type": "code",
   "execution_count": null,
   "metadata": {},
   "outputs": [],
   "source": []
  }
 ],
 "metadata": {
  "kernelspec": {
   "display_name": "Python 3",
   "language": "python",
   "name": "python3"
  },
  "language_info": {
   "codemirror_mode": {
    "name": "ipython",
    "version": 3
   },
   "file_extension": ".py",
   "mimetype": "text/x-python",
   "name": "python",
   "nbconvert_exporter": "python",
   "pygments_lexer": "ipython3",
   "version": "3.6.5"
  }
 },
 "nbformat": 4,
 "nbformat_minor": 2
}
