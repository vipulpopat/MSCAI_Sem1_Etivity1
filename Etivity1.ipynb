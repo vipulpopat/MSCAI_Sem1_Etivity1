{
 "cells": [
  {
   "cell_type": "markdown",
   "metadata": {},
   "source": [
    "Student Name: Chelliah Kanthanathan\n",
    "Student ID: 18263003"
   ]
  },
  {
   "cell_type": "code",
   "execution_count": 2,
   "metadata": {
    "collapsed": false
   },
   "outputs": [],
   "source": [
    "import matplotlib.pyplot as plt\n",
    "import numpy as np\n",
    "from sklearn.datasets import make_moons\n",
    "from sklearn.linear_model import LogisticRegression\n",
    "from sklearn import preprocessing\n",
    "import math\n",
    "from sklearn.datasets.samples_generator import make_blobs\n",
    "from sklearn.model_selection import train_test_split\n",
    "import pandas as pd"
   ]
  },
  {
   "cell_type": "markdown",
   "metadata": {},
   "source": [
    "# Task 1 - Load the data set"
   ]
  },
  {
   "cell_type": "code",
   "execution_count": 3,
   "metadata": {
    "collapsed": false
   },
   "outputs": [
    {
     "data": {
      "text/html": [
       "<div>\n",
       "<style>\n",
       "    .dataframe thead tr:only-child th {\n",
       "        text-align: right;\n",
       "    }\n",
       "\n",
       "    .dataframe thead th {\n",
       "        text-align: left;\n",
       "    }\n",
       "\n",
       "    .dataframe tbody tr th {\n",
       "        vertical-align: top;\n",
       "    }\n",
       "</style>\n",
       "<table border=\"1\" class=\"dataframe\">\n",
       "  <thead>\n",
       "    <tr style=\"text-align: right;\">\n",
       "      <th></th>\n",
       "      <th>Unnamed: 0</th>\n",
       "      <th>age</th>\n",
       "      <th>job</th>\n",
       "      <th>marital</th>\n",
       "      <th>education</th>\n",
       "      <th>default</th>\n",
       "      <th>balance</th>\n",
       "      <th>ratio_bal_ln</th>\n",
       "      <th>ratio_ln_inc</th>\n",
       "      <th>housing</th>\n",
       "      <th>loan</th>\n",
       "      <th>contact</th>\n",
       "      <th>day</th>\n",
       "      <th>month</th>\n",
       "      <th>duration</th>\n",
       "      <th>campaign</th>\n",
       "      <th>pdays</th>\n",
       "      <th>previous</th>\n",
       "      <th>poutcome</th>\n",
       "      <th>subscribed</th>\n",
       "    </tr>\n",
       "  </thead>\n",
       "  <tbody>\n",
       "    <tr>\n",
       "      <th>0</th>\n",
       "      <td>0</td>\n",
       "      <td>32</td>\n",
       "      <td>technician</td>\n",
       "      <td>single</td>\n",
       "      <td>tertiary</td>\n",
       "      <td>no</td>\n",
       "      <td>392</td>\n",
       "      <td>1.300134</td>\n",
       "      <td>0.473895</td>\n",
       "      <td>yes</td>\n",
       "      <td>no</td>\n",
       "      <td>cellular</td>\n",
       "      <td>1</td>\n",
       "      <td>apr</td>\n",
       "      <td>957</td>\n",
       "      <td>2</td>\n",
       "      <td>131</td>\n",
       "      <td>2</td>\n",
       "      <td>failure</td>\n",
       "      <td>no</td>\n",
       "    </tr>\n",
       "    <tr>\n",
       "      <th>1</th>\n",
       "      <td>1</td>\n",
       "      <td>39</td>\n",
       "      <td>technician</td>\n",
       "      <td>divorced</td>\n",
       "      <td>secondary</td>\n",
       "      <td>no</td>\n",
       "      <td>688</td>\n",
       "      <td>-0.193701</td>\n",
       "      <td>0.237021</td>\n",
       "      <td>yes</td>\n",
       "      <td>yes</td>\n",
       "      <td>cellular</td>\n",
       "      <td>1</td>\n",
       "      <td>apr</td>\n",
       "      <td>233</td>\n",
       "      <td>2</td>\n",
       "      <td>133</td>\n",
       "      <td>1</td>\n",
       "      <td>failure</td>\n",
       "      <td>no</td>\n",
       "    </tr>\n",
       "    <tr>\n",
       "      <th>2</th>\n",
       "      <td>2</td>\n",
       "      <td>59</td>\n",
       "      <td>retired</td>\n",
       "      <td>married</td>\n",
       "      <td>secondary</td>\n",
       "      <td>no</td>\n",
       "      <td>1035</td>\n",
       "      <td>1.334266</td>\n",
       "      <td>0.121981</td>\n",
       "      <td>yes</td>\n",
       "      <td>yes</td>\n",
       "      <td>cellular</td>\n",
       "      <td>1</td>\n",
       "      <td>apr</td>\n",
       "      <td>126</td>\n",
       "      <td>2</td>\n",
       "      <td>239</td>\n",
       "      <td>1</td>\n",
       "      <td>failure</td>\n",
       "      <td>no</td>\n",
       "    </tr>\n",
       "    <tr>\n",
       "      <th>3</th>\n",
       "      <td>3</td>\n",
       "      <td>47</td>\n",
       "      <td>blue-collar</td>\n",
       "      <td>married</td>\n",
       "      <td>secondary</td>\n",
       "      <td>no</td>\n",
       "      <td>398</td>\n",
       "      <td>0.362286</td>\n",
       "      <td>1.251328</td>\n",
       "      <td>yes</td>\n",
       "      <td>yes</td>\n",
       "      <td>cellular</td>\n",
       "      <td>1</td>\n",
       "      <td>apr</td>\n",
       "      <td>274</td>\n",
       "      <td>1</td>\n",
       "      <td>238</td>\n",
       "      <td>2</td>\n",
       "      <td>failure</td>\n",
       "      <td>no</td>\n",
       "    </tr>\n",
       "    <tr>\n",
       "      <th>4</th>\n",
       "      <td>4</td>\n",
       "      <td>54</td>\n",
       "      <td>retired</td>\n",
       "      <td>married</td>\n",
       "      <td>secondary</td>\n",
       "      <td>no</td>\n",
       "      <td>1004</td>\n",
       "      <td>0.072075</td>\n",
       "      <td>-0.533738</td>\n",
       "      <td>yes</td>\n",
       "      <td>no</td>\n",
       "      <td>cellular</td>\n",
       "      <td>1</td>\n",
       "      <td>apr</td>\n",
       "      <td>479</td>\n",
       "      <td>1</td>\n",
       "      <td>307</td>\n",
       "      <td>1</td>\n",
       "      <td>failure</td>\n",
       "      <td>no</td>\n",
       "    </tr>\n",
       "  </tbody>\n",
       "</table>\n",
       "</div>"
      ],
      "text/plain": [
       "   Unnamed: 0  age          job   marital  education default  balance  \\\n",
       "0           0   32   technician    single   tertiary      no      392   \n",
       "1           1   39   technician  divorced  secondary      no      688   \n",
       "2           2   59      retired   married  secondary      no     1035   \n",
       "3           3   47  blue-collar   married  secondary      no      398   \n",
       "4           4   54      retired   married  secondary      no     1004   \n",
       "\n",
       "   ratio_bal_ln  ratio_ln_inc housing loan   contact  day month  duration  \\\n",
       "0      1.300134      0.473895     yes   no  cellular    1   apr       957   \n",
       "1     -0.193701      0.237021     yes  yes  cellular    1   apr       233   \n",
       "2      1.334266      0.121981     yes  yes  cellular    1   apr       126   \n",
       "3      0.362286      1.251328     yes  yes  cellular    1   apr       274   \n",
       "4      0.072075     -0.533738     yes   no  cellular    1   apr       479   \n",
       "\n",
       "   campaign  pdays  previous poutcome subscribed  \n",
       "0         2    131         2  failure         no  \n",
       "1         2    133         1  failure         no  \n",
       "2         2    239         1  failure         no  \n",
       "3         1    238         2  failure         no  \n",
       "4         1    307         1  failure         no  "
      ]
     },
     "execution_count": 3,
     "metadata": {},
     "output_type": "execute_result"
    }
   ],
   "source": [
    "df = pd.read_csv('./bank_et1.csv')\n",
    "\n",
    "# Print the first five rows\n",
    "df.head(5)"
   ]
  },
  {
   "cell_type": "code",
   "execution_count": 4,
   "metadata": {
    "collapsed": false
   },
   "outputs": [
    {
     "data": {
      "text/html": [
       "<div>\n",
       "<style>\n",
       "    .dataframe thead tr:only-child th {\n",
       "        text-align: right;\n",
       "    }\n",
       "\n",
       "    .dataframe thead th {\n",
       "        text-align: left;\n",
       "    }\n",
       "\n",
       "    .dataframe tbody tr th {\n",
       "        vertical-align: top;\n",
       "    }\n",
       "</style>\n",
       "<table border=\"1\" class=\"dataframe\">\n",
       "  <thead>\n",
       "    <tr style=\"text-align: right;\">\n",
       "      <th></th>\n",
       "      <th>Unnamed: 0</th>\n",
       "      <th>age</th>\n",
       "      <th>job</th>\n",
       "      <th>marital</th>\n",
       "      <th>education</th>\n",
       "      <th>default</th>\n",
       "      <th>balance</th>\n",
       "      <th>ratio_bal_ln</th>\n",
       "      <th>ratio_ln_inc</th>\n",
       "      <th>housing</th>\n",
       "      <th>loan</th>\n",
       "      <th>contact</th>\n",
       "      <th>day</th>\n",
       "      <th>month</th>\n",
       "      <th>duration</th>\n",
       "      <th>campaign</th>\n",
       "      <th>pdays</th>\n",
       "      <th>previous</th>\n",
       "      <th>poutcome</th>\n",
       "      <th>subscribed</th>\n",
       "    </tr>\n",
       "  </thead>\n",
       "  <tbody>\n",
       "    <tr>\n",
       "      <th>1995</th>\n",
       "      <td>1995</td>\n",
       "      <td>20</td>\n",
       "      <td>student</td>\n",
       "      <td>single</td>\n",
       "      <td>NaN</td>\n",
       "      <td>no</td>\n",
       "      <td>2785</td>\n",
       "      <td>-2.170524</td>\n",
       "      <td>1.081071</td>\n",
       "      <td>no</td>\n",
       "      <td>no</td>\n",
       "      <td>cellular</td>\n",
       "      <td>16</td>\n",
       "      <td>sep</td>\n",
       "      <td>327</td>\n",
       "      <td>2</td>\n",
       "      <td>-1</td>\n",
       "      <td>0</td>\n",
       "      <td>NaN</td>\n",
       "      <td>yes</td>\n",
       "    </tr>\n",
       "    <tr>\n",
       "      <th>1996</th>\n",
       "      <td>1996</td>\n",
       "      <td>28</td>\n",
       "      <td>admin.</td>\n",
       "      <td>single</td>\n",
       "      <td>secondary</td>\n",
       "      <td>no</td>\n",
       "      <td>127</td>\n",
       "      <td>0.811788</td>\n",
       "      <td>1.134496</td>\n",
       "      <td>no</td>\n",
       "      <td>no</td>\n",
       "      <td>cellular</td>\n",
       "      <td>16</td>\n",
       "      <td>sep</td>\n",
       "      <td>1334</td>\n",
       "      <td>2</td>\n",
       "      <td>-1</td>\n",
       "      <td>0</td>\n",
       "      <td>NaN</td>\n",
       "      <td>yes</td>\n",
       "    </tr>\n",
       "    <tr>\n",
       "      <th>1997</th>\n",
       "      <td>1997</td>\n",
       "      <td>81</td>\n",
       "      <td>retired</td>\n",
       "      <td>married</td>\n",
       "      <td>primary</td>\n",
       "      <td>no</td>\n",
       "      <td>1154</td>\n",
       "      <td>0.504655</td>\n",
       "      <td>0.042190</td>\n",
       "      <td>no</td>\n",
       "      <td>no</td>\n",
       "      <td>telephone</td>\n",
       "      <td>17</td>\n",
       "      <td>sep</td>\n",
       "      <td>231</td>\n",
       "      <td>1</td>\n",
       "      <td>-1</td>\n",
       "      <td>0</td>\n",
       "      <td>NaN</td>\n",
       "      <td>yes</td>\n",
       "    </tr>\n",
       "    <tr>\n",
       "      <th>1998</th>\n",
       "      <td>1998</td>\n",
       "      <td>46</td>\n",
       "      <td>services</td>\n",
       "      <td>married</td>\n",
       "      <td>primary</td>\n",
       "      <td>no</td>\n",
       "      <td>4343</td>\n",
       "      <td>-0.965874</td>\n",
       "      <td>0.302708</td>\n",
       "      <td>yes</td>\n",
       "      <td>no</td>\n",
       "      <td>NaN</td>\n",
       "      <td>20</td>\n",
       "      <td>sep</td>\n",
       "      <td>185</td>\n",
       "      <td>1</td>\n",
       "      <td>-1</td>\n",
       "      <td>0</td>\n",
       "      <td>NaN</td>\n",
       "      <td>yes</td>\n",
       "    </tr>\n",
       "    <tr>\n",
       "      <th>1999</th>\n",
       "      <td>1999</td>\n",
       "      <td>40</td>\n",
       "      <td>entrepreneur</td>\n",
       "      <td>married</td>\n",
       "      <td>secondary</td>\n",
       "      <td>no</td>\n",
       "      <td>6403</td>\n",
       "      <td>-0.800893</td>\n",
       "      <td>1.066659</td>\n",
       "      <td>no</td>\n",
       "      <td>no</td>\n",
       "      <td>cellular</td>\n",
       "      <td>22</td>\n",
       "      <td>sep</td>\n",
       "      <td>208</td>\n",
       "      <td>2</td>\n",
       "      <td>-1</td>\n",
       "      <td>0</td>\n",
       "      <td>NaN</td>\n",
       "      <td>yes</td>\n",
       "    </tr>\n",
       "  </tbody>\n",
       "</table>\n",
       "</div>"
      ],
      "text/plain": [
       "      Unnamed: 0  age           job  marital  education default  balance  \\\n",
       "1995        1995   20       student   single        NaN      no     2785   \n",
       "1996        1996   28        admin.   single  secondary      no      127   \n",
       "1997        1997   81       retired  married    primary      no     1154   \n",
       "1998        1998   46      services  married    primary      no     4343   \n",
       "1999        1999   40  entrepreneur  married  secondary      no     6403   \n",
       "\n",
       "      ratio_bal_ln  ratio_ln_inc housing loan    contact  day month  duration  \\\n",
       "1995     -2.170524      1.081071      no   no   cellular   16   sep       327   \n",
       "1996      0.811788      1.134496      no   no   cellular   16   sep      1334   \n",
       "1997      0.504655      0.042190      no   no  telephone   17   sep       231   \n",
       "1998     -0.965874      0.302708     yes   no        NaN   20   sep       185   \n",
       "1999     -0.800893      1.066659      no   no   cellular   22   sep       208   \n",
       "\n",
       "      campaign  pdays  previous poutcome subscribed  \n",
       "1995         2     -1         0      NaN        yes  \n",
       "1996         2     -1         0      NaN        yes  \n",
       "1997         1     -1         0      NaN        yes  \n",
       "1998         1     -1         0      NaN        yes  \n",
       "1999         2     -1         0      NaN        yes  "
      ]
     },
     "execution_count": 4,
     "metadata": {},
     "output_type": "execute_result"
    }
   ],
   "source": [
    "# Print the last five rows\n",
    "df.tail(5)"
   ]
  },
  {
   "cell_type": "markdown",
   "metadata": {},
   "source": [
    "# Task 1 - Identify an attribute that can be the target/dependable variable for 2-class classification."
   ]
  },
  {
   "cell_type": "code",
   "execution_count": 5,
   "metadata": {
    "collapsed": true
   },
   "outputs": [],
   "source": [
    "# column loan could be the target/dependable variable. I assume the column show if the account has an existing loan or not.\n",
    "# The loan column represents yes (loan exists) or no (no loan) that can be used for 2 class classification"
   ]
  },
  {
   "cell_type": "markdown",
   "metadata": {},
   "source": [
    "# Task 2 - Calculate statistics for the numerical and categorical attributes."
   ]
  },
  {
   "cell_type": "code",
   "execution_count": 6,
   "metadata": {
    "collapsed": false
   },
   "outputs": [
    {
     "data": {
      "text/html": [
       "<div>\n",
       "<style>\n",
       "    .dataframe thead tr:only-child th {\n",
       "        text-align: right;\n",
       "    }\n",
       "\n",
       "    .dataframe thead th {\n",
       "        text-align: left;\n",
       "    }\n",
       "\n",
       "    .dataframe tbody tr th {\n",
       "        vertical-align: top;\n",
       "    }\n",
       "</style>\n",
       "<table border=\"1\" class=\"dataframe\">\n",
       "  <thead>\n",
       "    <tr style=\"text-align: right;\">\n",
       "      <th></th>\n",
       "      <th>Unnamed: 0</th>\n",
       "      <th>age</th>\n",
       "      <th>balance</th>\n",
       "      <th>ratio_bal_ln</th>\n",
       "      <th>ratio_ln_inc</th>\n",
       "      <th>day</th>\n",
       "      <th>duration</th>\n",
       "      <th>campaign</th>\n",
       "      <th>pdays</th>\n",
       "      <th>previous</th>\n",
       "    </tr>\n",
       "  </thead>\n",
       "  <tbody>\n",
       "    <tr>\n",
       "      <th>count</th>\n",
       "      <td>2000.000000</td>\n",
       "      <td>2000.000000</td>\n",
       "      <td>2000.000000</td>\n",
       "      <td>2000.000000</td>\n",
       "      <td>2000.000000</td>\n",
       "      <td>2000.000000</td>\n",
       "      <td>2000.000000</td>\n",
       "      <td>2000.000000</td>\n",
       "      <td>2000.000000</td>\n",
       "      <td>2000.000000</td>\n",
       "    </tr>\n",
       "    <tr>\n",
       "      <th>mean</th>\n",
       "      <td>999.500000</td>\n",
       "      <td>41.751500</td>\n",
       "      <td>1413.663500</td>\n",
       "      <td>0.241951</td>\n",
       "      <td>0.485030</td>\n",
       "      <td>13.851500</td>\n",
       "      <td>292.020500</td>\n",
       "      <td>1.909500</td>\n",
       "      <td>167.896000</td>\n",
       "      <td>2.561500</td>\n",
       "    </tr>\n",
       "    <tr>\n",
       "      <th>std</th>\n",
       "      <td>577.494589</td>\n",
       "      <td>12.723077</td>\n",
       "      <td>3131.224213</td>\n",
       "      <td>0.821604</td>\n",
       "      <td>1.075543</td>\n",
       "      <td>9.712189</td>\n",
       "      <td>221.557295</td>\n",
       "      <td>1.378862</td>\n",
       "      <td>131.754126</td>\n",
       "      <td>3.400735</td>\n",
       "    </tr>\n",
       "    <tr>\n",
       "      <th>min</th>\n",
       "      <td>0.000000</td>\n",
       "      <td>18.000000</td>\n",
       "      <td>-980.000000</td>\n",
       "      <td>-2.632068</td>\n",
       "      <td>-2.851405</td>\n",
       "      <td>1.000000</td>\n",
       "      <td>7.000000</td>\n",
       "      <td>1.000000</td>\n",
       "      <td>-1.000000</td>\n",
       "      <td>0.000000</td>\n",
       "    </tr>\n",
       "    <tr>\n",
       "      <th>25%</th>\n",
       "      <td>499.750000</td>\n",
       "      <td>32.000000</td>\n",
       "      <td>201.500000</td>\n",
       "      <td>-0.308018</td>\n",
       "      <td>-0.274181</td>\n",
       "      <td>5.000000</td>\n",
       "      <td>146.000000</td>\n",
       "      <td>1.000000</td>\n",
       "      <td>75.750000</td>\n",
       "      <td>1.000000</td>\n",
       "    </tr>\n",
       "    <tr>\n",
       "      <th>50%</th>\n",
       "      <td>999.500000</td>\n",
       "      <td>38.000000</td>\n",
       "      <td>551.000000</td>\n",
       "      <td>0.224099</td>\n",
       "      <td>0.487082</td>\n",
       "      <td>12.000000</td>\n",
       "      <td>236.000000</td>\n",
       "      <td>1.000000</td>\n",
       "      <td>182.000000</td>\n",
       "      <td>2.000000</td>\n",
       "    </tr>\n",
       "    <tr>\n",
       "      <th>75%</th>\n",
       "      <td>1499.250000</td>\n",
       "      <td>50.000000</td>\n",
       "      <td>1644.500000</td>\n",
       "      <td>0.806315</td>\n",
       "      <td>1.211896</td>\n",
       "      <td>23.000000</td>\n",
       "      <td>379.000000</td>\n",
       "      <td>2.000000</td>\n",
       "      <td>251.000000</td>\n",
       "      <td>3.000000</td>\n",
       "    </tr>\n",
       "    <tr>\n",
       "      <th>max</th>\n",
       "      <td>1999.000000</td>\n",
       "      <td>93.000000</td>\n",
       "      <td>81204.000000</td>\n",
       "      <td>2.961979</td>\n",
       "      <td>4.046914</td>\n",
       "      <td>31.000000</td>\n",
       "      <td>1823.000000</td>\n",
       "      <td>11.000000</td>\n",
       "      <td>854.000000</td>\n",
       "      <td>55.000000</td>\n",
       "    </tr>\n",
       "  </tbody>\n",
       "</table>\n",
       "</div>"
      ],
      "text/plain": [
       "        Unnamed: 0          age       balance  ratio_bal_ln  ratio_ln_inc  \\\n",
       "count  2000.000000  2000.000000   2000.000000   2000.000000   2000.000000   \n",
       "mean    999.500000    41.751500   1413.663500      0.241951      0.485030   \n",
       "std     577.494589    12.723077   3131.224213      0.821604      1.075543   \n",
       "min       0.000000    18.000000   -980.000000     -2.632068     -2.851405   \n",
       "25%     499.750000    32.000000    201.500000     -0.308018     -0.274181   \n",
       "50%     999.500000    38.000000    551.000000      0.224099      0.487082   \n",
       "75%    1499.250000    50.000000   1644.500000      0.806315      1.211896   \n",
       "max    1999.000000    93.000000  81204.000000      2.961979      4.046914   \n",
       "\n",
       "               day     duration     campaign        pdays     previous  \n",
       "count  2000.000000  2000.000000  2000.000000  2000.000000  2000.000000  \n",
       "mean     13.851500   292.020500     1.909500   167.896000     2.561500  \n",
       "std       9.712189   221.557295     1.378862   131.754126     3.400735  \n",
       "min       1.000000     7.000000     1.000000    -1.000000     0.000000  \n",
       "25%       5.000000   146.000000     1.000000    75.750000     1.000000  \n",
       "50%      12.000000   236.000000     1.000000   182.000000     2.000000  \n",
       "75%      23.000000   379.000000     2.000000   251.000000     3.000000  \n",
       "max      31.000000  1823.000000    11.000000   854.000000    55.000000  "
      ]
     },
     "execution_count": 6,
     "metadata": {},
     "output_type": "execute_result"
    }
   ],
   "source": [
    "# Print statistical summary for all numerical attributes\n",
    "df.describe()"
   ]
  },
  {
   "cell_type": "code",
   "execution_count": 7,
   "metadata": {
    "collapsed": false
   },
   "outputs": [
    {
     "data": {
      "text/plain": [
       "2000"
      ]
     },
     "execution_count": 7,
     "metadata": {},
     "output_type": "execute_result"
    }
   ],
   "source": [
    "# check if there is any missing values for categorical attributes\n",
    "df['job'].count()\n",
    "\n",
    "df['marital'].count()\n",
    "\n",
    "df['education'].count()\n",
    "\n",
    "df['default'].count()\n",
    "\n",
    "df['housing'].count()\n",
    "\n",
    "df['loan'].count()\n",
    "\n",
    "df['contact'].count()\n",
    "\n",
    "df['poutcome'].count()\n",
    "\n",
    "df['subscribed'].count()"
   ]
  },
  {
   "cell_type": "markdown",
   "metadata": {},
   "source": [
    "# Task 2 - Use at least two different plotting techniques to plot the distribution of two numerical and two categorical attributes. Draw short conclusions (in a markdown cell)."
   ]
  },
  {
   "cell_type": "markdown",
   "metadata": {},
   "source": [
    "Two numerical attributes selected - age and balance"
   ]
  },
  {
   "cell_type": "code",
   "execution_count": 8,
   "metadata": {
    "collapsed": false
   },
   "outputs": [
    {
     "data": {
      "text/plain": [
       "Text(0,0.5,'frequency')"
      ]
     },
     "execution_count": 8,
     "metadata": {},
     "output_type": "execute_result"
    },
    {
     "data": {
      "image/png": "[encoded data removed]",
      "text/plain": [
       "<Figure size 432x288 with 1 Axes>"
      ]
     },
     "metadata": {},
     "output_type": "display_data"
    }
   ],
   "source": [
    "# Plotting a histogram of age to check the distribution of age for 2000 bank accounts\n",
    "df['age'].hist(bins=50)\n",
    "plt.xlabel('age')\n",
    "plt.ylabel('frequency')"
   ]
  },
  {
   "cell_type": "markdown",
   "metadata": {},
   "source": [
    "age between 30 to 40 has high frequency. Above age 60 and below age 22 have less frequency. This concludes the majority of accounts have age range between 30 to 40 followed by 40 to 60"
   ]
  },
  {
   "cell_type": "code",
   "execution_count": 9,
   "metadata": {
    "collapsed": true
   },
   "outputs": [],
   "source": [
    "# Plotting Violinplot for balance to check the distribution of balance for 2000 bank accounts\n",
    "#sns.violinplot(x=df['balance'])"
   ]
  },
  {
   "cell_type": "markdown",
   "metadata": {},
   "source": [
    "above violin plot concludes that most of the accounts have balance above 1000"
   ]
  },
  {
   "cell_type": "markdown",
   "metadata": {},
   "source": [
    "Two categorical attributes selected - loan and education"
   ]
  },
  {
   "cell_type": "code",
   "execution_count": 10,
   "metadata": {
    "collapsed": false
   },
   "outputs": [
    {
     "data": {
      "text/plain": [
       "Text(0,0.5,'Number of Accounts with loan')"
      ]
     },
     "execution_count": 10,
     "metadata": {},
     "output_type": "execute_result"
    },
    {
     "data": {
      "image/png": "[encoded data removed]",
      "text/plain": [
       "<Figure size 432x288 with 1 Axes>"
      ]
     },
     "metadata": {},
     "output_type": "display_data"
    }
   ],
   "source": [
    "# Plotting bar chart for loan. Plot the accounts with or without loan\n",
    "frequency_table = df['loan'].value_counts(ascending=True)\n",
    "frequency_table.plot(kind='bar')\n",
    "plt.xlabel('Loan')\n",
    "plt.ylabel('Number of Accounts with loan')"
   ]
  },
  {
   "cell_type": "markdown",
   "metadata": {},
   "source": [
    "above bar chart concludes the accounts with loan is 250 and without loan is 1750"
   ]
  },
  {
   "cell_type": "code",
   "execution_count": 11,
   "metadata": {
    "collapsed": false
   },
   "outputs": [
    {
     "data": {
      "text/plain": [
       "Text(0,0.5,'Number of Accounts')"
      ]
     },
     "execution_count": 11,
     "metadata": {},
     "output_type": "execute_result"
    },
    {
     "data": {
      "image/png": "[encoded data removed]",
      "text/plain": [
       "<Figure size 432x288 with 1 Axes>"
      ]
     },
     "metadata": {},
     "output_type": "display_data"
    }
   ],
   "source": [
    "# Plotting bar chart for education.\n",
    "frequency_table = df['education'].value_counts(ascending=True)\n",
    "frequency_table.plot(kind='bar')\n",
    "plt.xlabel('education')\n",
    "plt.ylabel('Number of Accounts')"
   ]
  },
  {
   "cell_type": "markdown",
   "metadata": {},
   "source": [
    "above bar chart concludes most of the accounts have secondary education followed by tertiary education. But only 200 accounts have primary education"
   ]
  },
  {
   "cell_type": "markdown",
   "metadata": {},
   "source": [
    "# Task 2 - Generate two plots with the combined distribution of attributes and draw conclusions from them (in a markdown cell)."
   ]
  },
  {
   "cell_type": "code",
   "execution_count": 12,
   "metadata": {
    "collapsed": false
   },
   "outputs": [
    {
     "data": {
      "text/plain": [
       "Text(0,0.5,'Number of Accounts')"
      ]
     },
     "execution_count": 12,
     "metadata": {},
     "output_type": "execute_result"
    },
    {
     "data": {
      "image/png": "[encoded data removed]",
      "text/plain": [
       "<Figure size 432x288 with 1 Axes>"
      ]
     },
     "metadata": {},
     "output_type": "display_data"
    }
   ],
   "source": [
    "# stacked bar chart for age and loan grouped together to understand the age range that has an existing loan\n",
    "stacked_chart = pd.crosstab(df['age'], df['loan'])\n",
    "stacked_chart.plot(kind='bar', stacked=True, color=['red', 'blue'])\n",
    "plt.ylabel('Number of Accounts')"
   ]
  },
  {
   "cell_type": "markdown",
   "metadata": {},
   "source": [
    "above stacked bar chart concludes that mostly the age range between 30 to 60 has an existing loan"
   ]
  },
  {
   "cell_type": "code",
   "execution_count": 13,
   "metadata": {
    "collapsed": false
   },
   "outputs": [
    {
     "data": {
      "text/plain": [
       "<matplotlib.axes._subplots.AxesSubplot at 0x7feafdd0a860>"
      ]
     },
     "execution_count": 13,
     "metadata": {},
     "output_type": "execute_result"
    },
    {
     "data": {
      "image/png": "[encoded data removed]",
      "text/plain": [
       "<Figure size 432x288 with 1 Axes>"
      ]
     },
     "metadata": {},
     "output_type": "display_data"
    }
   ],
   "source": [
    "# Examine the relationship between age and balance with a scatter plot.\n",
    "df.plot.scatter(x='age', y='balance')"
   ]
  },
  {
   "cell_type": "markdown",
   "metadata": {},
   "source": [
    "above scatter plot concludes that some age range between 80 to 85 has highest balance. At the same time few accounts with in the age range between 30 to 80 has balance between 25000 to 30000. Also another key thing is that any other age group less than 30 or greater than 80 have balance less than 20000."
   ]
  },
  {
   "cell_type": "markdown",
   "metadata": {},
   "source": [
    "# Task 2 - Generate additional plots to identify two numerical attributes that can potentially be used for predicting the value of the dependent variable you chose in Task 1."
   ]
  },
  {
   "cell_type": "markdown",
   "metadata": {},
   "source": [
    "we could use the numerical attributes columns age and balance to understand the likelihood of existing loan i.e with less balance the account would likely to have an existing loan. Also the columns age and balance could have some dependency i.e. with young age the balance could be less and old age the balance could be more as less age obviously would have had the accounts in service for only for few years than old age. So age and balance could have some dependency."
   ]
  },
  {
   "cell_type": "code",
   "execution_count": 14,
   "metadata": {
    "collapsed": true
   },
   "outputs": [],
   "source": [
    "# Column loan is a categorical attribute with two categories:\n",
    "\n",
    "# Yes - the account has an existing loan\n",
    "# No - the account with out an existing loan\n",
    "# Let's look at the chances of existing a loan based on age and balance. So we will examine the relation between atributes age, balance and loan."
   ]
  },
  {
   "cell_type": "code",
   "execution_count": 15,
   "metadata": {
    "collapsed": false
   },
   "outputs": [
    {
     "name": "stdout",
     "output_type": "stream",
     "text": [
      "Frequency Table for loan\n",
      "yes     250\n",
      "no     1750\n",
      "Name: loan, dtype: int64\n"
     ]
    }
   ],
   "source": [
    "frequency_table = df['loan'].value_counts(ascending=True)\n",
    "print('Frequency Table for loan') \n",
    "print(frequency_table)"
   ]
  },
  {
   "cell_type": "code",
   "execution_count": 16,
   "metadata": {
    "collapsed": false
   },
   "outputs": [
    {
     "data": {
      "text/plain": [
       "Text(0,0.5,'Number of Accounts')"
      ]
     },
     "execution_count": 16,
     "metadata": {},
     "output_type": "execute_result"
    },
    {
     "data": {
      "image/png": "[encoded data removed]",
      "text/plain": [
       "<Figure size 432x288 with 1 Axes>"
      ]
     },
     "metadata": {},
     "output_type": "display_data"
    }
   ],
   "source": [
    "# stacked bar chart for age and loan grouped together to understand the age range that has an existing loan\n",
    "stacked_chart = pd.crosstab(df['age'], df['loan'])\n",
    "stacked_chart.plot(kind='bar', stacked=True, color=['red', 'blue'])\n",
    "plt.ylabel('Number of Accounts')"
   ]
  },
  {
   "cell_type": "code",
   "execution_count": 17,
   "metadata": {
    "collapsed": false
   },
   "outputs": [
    {
     "data": {
      "text/plain": [
       "<matplotlib.axes._subplots.AxesSubplot at 0x7feafdc9f940>"
      ]
     },
     "execution_count": 17,
     "metadata": {},
     "output_type": "execute_result"
    },
    {
     "data": {
      "image/png": "[encoded data removed]",
      "text/plain": [
       "<Figure size 432x288 with 1 Axes>"
      ]
     },
     "metadata": {},
     "output_type": "display_data"
    }
   ],
   "source": [
    "# Examine the relationship between age and balance with a scatter plot.\n",
    "df.plot.scatter(x='age', y='balance')"
   ]
  },
  {
   "cell_type": "markdown",
   "metadata": {},
   "source": [
    "above stacked bar chart concludes that mostly the age range between 30 to 60 has an existing loan\n",
    "\n",
    "above scatter plot concludes that some age range between 80 to 85 has highest balance. At the same time few accounts with in the age range between 30 to 80 has balance between 25000 to 30000. Also another key thing is that any other age group less than 30 or greater than 80 have balance less than 20000."
   ]
  },
  {
   "cell_type": "markdown",
   "metadata": {},
   "source": [
    "# Thus we could conclude that the account with age range between 30 and 60 and with balance between 25000 to 30000 has likely chance to apply for loan."
   ]
  },
  {
   "cell_type": "markdown",
   "metadata": {},
   "source": [
    "Suggestion: try PLA on this dataset before using the bank dataset"
   ]
  },
  {
   "cell_type": "code",
   "execution_count": 11,
   "metadata": {
    "collapsed": false
   },
   "outputs": [],
   "source": [
    "X, y = make_blobs(n_samples=1000, centers=2, n_features=2)\n",
    "y = [yy if yy == 1 else -1 for yy in y] "
   ]
  },
  {
   "cell_type": "code",
   "execution_count": 12,
   "metadata": {
    "collapsed": true
   },
   "outputs": [],
   "source": [
    "def h(x,w):\n",
    "    #Perceptron model: the sign of the dot product of weights and input vector determines the class allocation\n",
    "    bias = np.array([1])\n",
    "    return np.sign(w.T.dot(np.concatenate((bias,x))))"
   ]
  },
  {
   "cell_type": "code",
   "execution_count": 13,
   "metadata": {
    "collapsed": true
   },
   "outputs": [],
   "source": [
    "def point_on_boundary(weights, x):\n",
    "    # Return the y-position on the boundary based on given x-position\n",
    "    return -(weights[0]+weights[1]*x)/weights[2]"
   ]
  },
  {
   "cell_type": "code",
   "execution_count": 14,
   "metadata": {
    "collapsed": true
   },
   "outputs": [],
   "source": [
    "def decision_boundary(weights, x_min, x_max):\n",
    "    # Return two points on the decision boundary\n",
    "    return [pointOnBoundary(x_min), pointOnBoundary(x_max)]"
   ]
  },
  {
   "cell_type": "code",
   "execution_count": 15,
   "metadata": {
    "collapsed": true
   },
   "outputs": [],
   "source": [
    "def pla(training_in, training_out, weights):\n",
    "    bias = np.array([1])\n",
    "    iterations=0\n",
    "    while True:\n",
    "        errors = 0;\n",
    "        for x,y in zip(training_in, training_out):\n",
    "            if (h(x,weights)!=y):\n",
    "                iterations+=1;\n",
    "                weights = weights + y*(np.concatenate((bias,x)))\n",
    "                errors+=1;\n",
    "        if (errors == 0):\n",
    "            break\n",
    "    return weights, iterations"
   ]
  },
  {
   "cell_type": "code",
   "execution_count": 16,
   "metadata": {
    "collapsed": true
   },
   "outputs": [],
   "source": [
    "def calc_error(training_in, training_out, weights):\n",
    "    # Calculate the classification error as the fraction of training samples that are misclassified\n",
    "    errors=0\n",
    "    for x,y in zip(training_in, training_out):\n",
    "        if (h(x,weights)!=y):\n",
    "            errors+=1;\n",
    "    return errors/len(training_in)"
   ]
  },
  {
   "cell_type": "code",
   "execution_count": null,
   "metadata": {
    "collapsed": true
   },
   "outputs": [],
   "source": []
  }
 ],
 "metadata": {
  "kernelspec": {
   "display_name": "Python 3",
   "language": "python",
   "name": "python3"
  },
  "language_info": {
   "codemirror_mode": {
    "name": "ipython",
    "version": 3
   },
   "file_extension": ".py",
   "mimetype": "text/x-python",
   "name": "python",
   "nbconvert_exporter": "python",
   "pygments_lexer": "ipython3",
   "version": "3.4.9"
  }
 },
 "nbformat": 4,
 "nbformat_minor": 2
}
