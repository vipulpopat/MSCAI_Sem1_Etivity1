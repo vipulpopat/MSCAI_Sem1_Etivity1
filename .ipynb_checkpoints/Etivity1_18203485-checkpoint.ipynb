{
 "cells": [
  {
   "cell_type": "markdown",
   "metadata": {
    "colab_type": "text",
    "id": "2k18v-jnKXPU"
   },
   "source": [
    "# Student Id: 1820345 "
   ]
  },
  {
   "cell_type": "markdown",
   "metadata": {
    "colab_type": "text",
    "id": "2DQYe2QCKXPW"
   },
   "source": [
    "# Student Name : Fergus Mc Hale"
   ]
  },
  {
   "cell_type": "code",
   "execution_count": 1,
   "metadata": {
    "colab": {},
    "colab_type": "code",
    "id": "NA3lno2RKXPW"
   },
   "outputs": [],
   "source": [
    "import matplotlib.pyplot as plt\n",
    "import numpy as np\n",
    "import random\n",
    "from sklearn.datasets import make_moons\n",
    "from sklearn.linear_model import LogisticRegression\n",
    "from sklearn.preprocessing import LabelEncoder\n",
    "from sklearn import preprocessing\n",
    "import math\n",
    "from sklearn.datasets.samples_generator import make_blobs\n",
    "from sklearn.model_selection import train_test_split\n",
    "import pandas as pd\n",
    "import seaborn as sns\n",
    "#from google.colab import files\n",
    "#import io"
   ]
  },
  {
   "cell_type": "markdown",
   "metadata": {
    "colab_type": "text",
    "id": "SksGWcMqKXPb"
   },
   "source": [
    "# Task 1\n",
    "# Load bank.csv into a Pandas dataframe. Examine the first few data rows and the last few data rows. Identify an attribute that can be the target/dependable variable for 2-class classification."
   ]
  },
  {
   "cell_type": "code",
   "execution_count": 2,
   "metadata": {
    "colab": {
     "base_uri": "https://localhost:8080/",
     "height": 74,
     "resources": {
      "http://localhost:8080/nbextensions/google.colab/files.js": {
       "data": "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",
       "headers": [
        [
         "content-type",
         "application/javascript"
        ]
       ],
       "ok": true,
       "status": 200,
       "status_text": ""
      }
     }
    },
    "colab_type": "code",
    "id": "iGZYfIwALG50",
    "outputId": "13f3d817-bd9d-45e1-9154-6176429e3aea"
   },
   "outputs": [],
   "source": [
    "#uploaded = files.upload()"
   ]
  },
  {
   "cell_type": "code",
   "execution_count": 3,
   "metadata": {
    "colab": {},
    "colab_type": "code",
    "id": "UUTm7g_UKXPc"
   },
   "outputs": [],
   "source": [
    "CSV_SPLIT = ','"
   ]
  },
  {
   "cell_type": "code",
   "execution_count": 4,
   "metadata": {
    "colab": {},
    "colab_type": "code",
    "id": "sy88YR5OKXPf"
   },
   "outputs": [],
   "source": [
    "data = pd.read_csv('./data/bank_et1.csv',sep=CSV_SPLIT, delimiter=None,index_col='Unnamed: 0') #For local Machine"
   ]
  },
  {
   "cell_type": "code",
   "execution_count": 5,
   "metadata": {
    "colab": {},
    "colab_type": "code",
    "id": "eZwL0hssKvjU"
   },
   "outputs": [],
   "source": [
    "#data = pd.read_csv(io.BytesIO(uploaded['bank_et1.csv']),sep=CSV_SPLIT, delimiter=None,index_col='Unnamed: 0') #For Goggle Colab"
   ]
  },
  {
   "cell_type": "markdown",
   "metadata": {
    "colab_type": "text",
    "id": "KGt_pjvxKXPl"
   },
   "source": [
    "# Task 2\n",
    "# Follow the examples in the provided notebook “Lab 1 - Exploratory Data Analysis.ipynb” to perform EDA of the bank data set."
   ]
  },
  {
   "cell_type": "code",
   "execution_count": 6,
   "metadata": {
    "colab": {},
    "colab_type": "code",
    "id": "CE3w2w7nKXPn"
   },
   "outputs": [],
   "source": [
    "empty_data = data.isnull().sum() #Check for null values in field\n",
    "y_pos = np.arange(len(empty_data))"
   ]
  },
  {
   "cell_type": "code",
   "execution_count": 7,
   "metadata": {
    "colab": {
     "base_uri": "https://localhost:8080/",
     "height": 365
    },
    "colab_type": "code",
    "id": "GPX32cU8MVqW",
    "outputId": "22b8da19-5647-46bf-f4bf-c3c05199973d"
   },
   "outputs": [
    {
     "data": {
      "text/plain": [
       "<BarContainer object of 19 artists>"
      ]
     },
     "execution_count": 7,
     "metadata": {},
     "output_type": "execute_result"
    },
    {
     "data": {
      "image/png": "[encoded data removed]",
      "text/plain": [
       "<Figure size 432x288 with 1 Axes>"
      ]
     },
     "metadata": {
      "needs_background": "light"
     },
     "output_type": "display_data"
    }
   ],
   "source": [
    "plt.bar(y_pos, empty_data, align='center', alpha=0.5)"
   ]
  },
  {
   "cell_type": "markdown",
   "metadata": {
    "colab_type": "text",
    "id": "tMoe79cAKXPr"
   },
   "source": [
    "# The following fields contain null values that have been replaced with values\n",
    "# Job : 10\n",
    "# Education : 104\n",
    "# contact  : 191\n",
    "# poutcome : 454\n",
    "# These have been replaced to say unknown"
   ]
  },
  {
   "cell_type": "code",
   "execution_count": 8,
   "metadata": {
    "colab": {},
    "colab_type": "code",
    "id": "dHOStj1AKXPr"
   },
   "outputs": [],
   "source": [
    "data[\"poutcome\"].fillna(\"unknown\", inplace = True) #Replace null values"
   ]
  },
  {
   "cell_type": "code",
   "execution_count": 9,
   "metadata": {
    "colab": {},
    "colab_type": "code",
    "id": "15A1lgt9KXPv"
   },
   "outputs": [],
   "source": [
    "data[\"education\"].fillna(\"unknown\", inplace = True)"
   ]
  },
  {
   "cell_type": "code",
   "execution_count": 10,
   "metadata": {
    "colab": {},
    "colab_type": "code",
    "id": "80B9riomKXP0"
   },
   "outputs": [],
   "source": [
    "data[\"job\"].fillna(\"unknown\", inplace = True)"
   ]
  },
  {
   "cell_type": "code",
   "execution_count": 11,
   "metadata": {
    "colab": {},
    "colab_type": "code",
    "id": "IR-6rQBfKXP4"
   },
   "outputs": [],
   "source": [
    "data[\"contact\"].fillna(\"unknown\", inplace = True)"
   ]
  },
  {
   "cell_type": "markdown",
   "metadata": {
    "colab_type": "text",
    "id": "d9z5_PhIKXP7"
   },
   "source": [
    "# Calculate statistics for the numerical and categorical attributes."
   ]
  },
  {
   "cell_type": "code",
   "execution_count": 12,
   "metadata": {
    "colab": {
     "base_uri": "https://localhost:8080/",
     "height": 195
    },
    "colab_type": "code",
    "id": "fIJxIXyRKXP8",
    "outputId": "7ae0f718-21c4-47ed-8150-0101f56f0b58"
   },
   "outputs": [
    {
     "data": {
      "text/html": [
       "<div>\n",
       "<style scoped>\n",
       "    .dataframe tbody tr th:only-of-type {\n",
       "        vertical-align: middle;\n",
       "    }\n",
       "\n",
       "    .dataframe tbody tr th {\n",
       "        vertical-align: top;\n",
       "    }\n",
       "\n",
       "    .dataframe thead th {\n",
       "        text-align: right;\n",
       "    }\n",
       "</style>\n",
       "<table border=\"1\" class=\"dataframe\">\n",
       "  <thead>\n",
       "    <tr style=\"text-align: right;\">\n",
       "      <th></th>\n",
       "      <th>age</th>\n",
       "      <th>job</th>\n",
       "      <th>marital</th>\n",
       "      <th>education</th>\n",
       "      <th>default</th>\n",
       "      <th>balance</th>\n",
       "      <th>ratio_bal_ln</th>\n",
       "      <th>ratio_ln_inc</th>\n",
       "      <th>housing</th>\n",
       "      <th>loan</th>\n",
       "      <th>contact</th>\n",
       "      <th>day</th>\n",
       "      <th>month</th>\n",
       "      <th>duration</th>\n",
       "      <th>campaign</th>\n",
       "      <th>pdays</th>\n",
       "      <th>previous</th>\n",
       "      <th>poutcome</th>\n",
       "      <th>subscribed</th>\n",
       "    </tr>\n",
       "  </thead>\n",
       "  <tbody>\n",
       "    <tr>\n",
       "      <th>0</th>\n",
       "      <td>32</td>\n",
       "      <td>technician</td>\n",
       "      <td>single</td>\n",
       "      <td>tertiary</td>\n",
       "      <td>no</td>\n",
       "      <td>392</td>\n",
       "      <td>1.300134</td>\n",
       "      <td>0.473895</td>\n",
       "      <td>yes</td>\n",
       "      <td>no</td>\n",
       "      <td>cellular</td>\n",
       "      <td>1</td>\n",
       "      <td>apr</td>\n",
       "      <td>957</td>\n",
       "      <td>2</td>\n",
       "      <td>131</td>\n",
       "      <td>2</td>\n",
       "      <td>failure</td>\n",
       "      <td>no</td>\n",
       "    </tr>\n",
       "    <tr>\n",
       "      <th>1</th>\n",
       "      <td>39</td>\n",
       "      <td>technician</td>\n",
       "      <td>divorced</td>\n",
       "      <td>secondary</td>\n",
       "      <td>no</td>\n",
       "      <td>688</td>\n",
       "      <td>-0.193701</td>\n",
       "      <td>0.237021</td>\n",
       "      <td>yes</td>\n",
       "      <td>yes</td>\n",
       "      <td>cellular</td>\n",
       "      <td>1</td>\n",
       "      <td>apr</td>\n",
       "      <td>233</td>\n",
       "      <td>2</td>\n",
       "      <td>133</td>\n",
       "      <td>1</td>\n",
       "      <td>failure</td>\n",
       "      <td>no</td>\n",
       "    </tr>\n",
       "    <tr>\n",
       "      <th>2</th>\n",
       "      <td>59</td>\n",
       "      <td>retired</td>\n",
       "      <td>married</td>\n",
       "      <td>secondary</td>\n",
       "      <td>no</td>\n",
       "      <td>1035</td>\n",
       "      <td>1.334266</td>\n",
       "      <td>0.121981</td>\n",
       "      <td>yes</td>\n",
       "      <td>yes</td>\n",
       "      <td>cellular</td>\n",
       "      <td>1</td>\n",
       "      <td>apr</td>\n",
       "      <td>126</td>\n",
       "      <td>2</td>\n",
       "      <td>239</td>\n",
       "      <td>1</td>\n",
       "      <td>failure</td>\n",
       "      <td>no</td>\n",
       "    </tr>\n",
       "    <tr>\n",
       "      <th>3</th>\n",
       "      <td>47</td>\n",
       "      <td>blue-collar</td>\n",
       "      <td>married</td>\n",
       "      <td>secondary</td>\n",
       "      <td>no</td>\n",
       "      <td>398</td>\n",
       "      <td>0.362286</td>\n",
       "      <td>1.251328</td>\n",
       "      <td>yes</td>\n",
       "      <td>yes</td>\n",
       "      <td>cellular</td>\n",
       "      <td>1</td>\n",
       "      <td>apr</td>\n",
       "      <td>274</td>\n",
       "      <td>1</td>\n",
       "      <td>238</td>\n",
       "      <td>2</td>\n",
       "      <td>failure</td>\n",
       "      <td>no</td>\n",
       "    </tr>\n",
       "    <tr>\n",
       "      <th>4</th>\n",
       "      <td>54</td>\n",
       "      <td>retired</td>\n",
       "      <td>married</td>\n",
       "      <td>secondary</td>\n",
       "      <td>no</td>\n",
       "      <td>1004</td>\n",
       "      <td>0.072075</td>\n",
       "      <td>-0.533738</td>\n",
       "      <td>yes</td>\n",
       "      <td>no</td>\n",
       "      <td>cellular</td>\n",
       "      <td>1</td>\n",
       "      <td>apr</td>\n",
       "      <td>479</td>\n",
       "      <td>1</td>\n",
       "      <td>307</td>\n",
       "      <td>1</td>\n",
       "      <td>failure</td>\n",
       "      <td>no</td>\n",
       "    </tr>\n",
       "  </tbody>\n",
       "</table>\n",
       "</div>"
      ],
      "text/plain": [
       "   age          job   marital  education default  balance  ratio_bal_ln  \\\n",
       "0   32   technician    single   tertiary      no      392      1.300134   \n",
       "1   39   technician  divorced  secondary      no      688     -0.193701   \n",
       "2   59      retired   married  secondary      no     1035      1.334266   \n",
       "3   47  blue-collar   married  secondary      no      398      0.362286   \n",
       "4   54      retired   married  secondary      no     1004      0.072075   \n",
       "\n",
       "   ratio_ln_inc housing loan   contact  day month  duration  campaign  pdays  \\\n",
       "0      0.473895     yes   no  cellular    1   apr       957         2    131   \n",
       "1      0.237021     yes  yes  cellular    1   apr       233         2    133   \n",
       "2      0.121981     yes  yes  cellular    1   apr       126         2    239   \n",
       "3      1.251328     yes  yes  cellular    1   apr       274         1    238   \n",
       "4     -0.533738     yes   no  cellular    1   apr       479         1    307   \n",
       "\n",
       "   previous poutcome subscribed  \n",
       "0         2  failure         no  \n",
       "1         1  failure         no  \n",
       "2         1  failure         no  \n",
       "3         2  failure         no  \n",
       "4         1  failure         no  "
      ]
     },
     "execution_count": 12,
     "metadata": {},
     "output_type": "execute_result"
    }
   ],
   "source": [
    "data.head(5)"
   ]
  },
  {
   "cell_type": "code",
   "execution_count": 13,
   "metadata": {
    "colab": {
     "base_uri": "https://localhost:8080/",
     "height": 215
    },
    "colab_type": "code",
    "id": "85zgO30eKXQA",
    "outputId": "1eedfa5f-9be9-4bcd-c762-849c02d692ad"
   },
   "outputs": [
    {
     "data": {
      "text/html": [
       "<div>\n",
       "<style scoped>\n",
       "    .dataframe tbody tr th:only-of-type {\n",
       "        vertical-align: middle;\n",
       "    }\n",
       "\n",
       "    .dataframe tbody tr th {\n",
       "        vertical-align: top;\n",
       "    }\n",
       "\n",
       "    .dataframe thead th {\n",
       "        text-align: right;\n",
       "    }\n",
       "</style>\n",
       "<table border=\"1\" class=\"dataframe\">\n",
       "  <thead>\n",
       "    <tr style=\"text-align: right;\">\n",
       "      <th></th>\n",
       "      <th>age</th>\n",
       "      <th>job</th>\n",
       "      <th>marital</th>\n",
       "      <th>education</th>\n",
       "      <th>default</th>\n",
       "      <th>balance</th>\n",
       "      <th>ratio_bal_ln</th>\n",
       "      <th>ratio_ln_inc</th>\n",
       "      <th>housing</th>\n",
       "      <th>loan</th>\n",
       "      <th>contact</th>\n",
       "      <th>day</th>\n",
       "      <th>month</th>\n",
       "      <th>duration</th>\n",
       "      <th>campaign</th>\n",
       "      <th>pdays</th>\n",
       "      <th>previous</th>\n",
       "      <th>poutcome</th>\n",
       "      <th>subscribed</th>\n",
       "    </tr>\n",
       "  </thead>\n",
       "  <tbody>\n",
       "    <tr>\n",
       "      <th>1995</th>\n",
       "      <td>20</td>\n",
       "      <td>student</td>\n",
       "      <td>single</td>\n",
       "      <td>unknown</td>\n",
       "      <td>no</td>\n",
       "      <td>2785</td>\n",
       "      <td>-2.170524</td>\n",
       "      <td>1.081071</td>\n",
       "      <td>no</td>\n",
       "      <td>no</td>\n",
       "      <td>cellular</td>\n",
       "      <td>16</td>\n",
       "      <td>sep</td>\n",
       "      <td>327</td>\n",
       "      <td>2</td>\n",
       "      <td>-1</td>\n",
       "      <td>0</td>\n",
       "      <td>unknown</td>\n",
       "      <td>yes</td>\n",
       "    </tr>\n",
       "    <tr>\n",
       "      <th>1996</th>\n",
       "      <td>28</td>\n",
       "      <td>admin.</td>\n",
       "      <td>single</td>\n",
       "      <td>secondary</td>\n",
       "      <td>no</td>\n",
       "      <td>127</td>\n",
       "      <td>0.811788</td>\n",
       "      <td>1.134496</td>\n",
       "      <td>no</td>\n",
       "      <td>no</td>\n",
       "      <td>cellular</td>\n",
       "      <td>16</td>\n",
       "      <td>sep</td>\n",
       "      <td>1334</td>\n",
       "      <td>2</td>\n",
       "      <td>-1</td>\n",
       "      <td>0</td>\n",
       "      <td>unknown</td>\n",
       "      <td>yes</td>\n",
       "    </tr>\n",
       "    <tr>\n",
       "      <th>1997</th>\n",
       "      <td>81</td>\n",
       "      <td>retired</td>\n",
       "      <td>married</td>\n",
       "      <td>primary</td>\n",
       "      <td>no</td>\n",
       "      <td>1154</td>\n",
       "      <td>0.504655</td>\n",
       "      <td>0.042190</td>\n",
       "      <td>no</td>\n",
       "      <td>no</td>\n",
       "      <td>telephone</td>\n",
       "      <td>17</td>\n",
       "      <td>sep</td>\n",
       "      <td>231</td>\n",
       "      <td>1</td>\n",
       "      <td>-1</td>\n",
       "      <td>0</td>\n",
       "      <td>unknown</td>\n",
       "      <td>yes</td>\n",
       "    </tr>\n",
       "    <tr>\n",
       "      <th>1998</th>\n",
       "      <td>46</td>\n",
       "      <td>services</td>\n",
       "      <td>married</td>\n",
       "      <td>primary</td>\n",
       "      <td>no</td>\n",
       "      <td>4343</td>\n",
       "      <td>-0.965874</td>\n",
       "      <td>0.302708</td>\n",
       "      <td>yes</td>\n",
       "      <td>no</td>\n",
       "      <td>unknown</td>\n",
       "      <td>20</td>\n",
       "      <td>sep</td>\n",
       "      <td>185</td>\n",
       "      <td>1</td>\n",
       "      <td>-1</td>\n",
       "      <td>0</td>\n",
       "      <td>unknown</td>\n",
       "      <td>yes</td>\n",
       "    </tr>\n",
       "    <tr>\n",
       "      <th>1999</th>\n",
       "      <td>40</td>\n",
       "      <td>entrepreneur</td>\n",
       "      <td>married</td>\n",
       "      <td>secondary</td>\n",
       "      <td>no</td>\n",
       "      <td>6403</td>\n",
       "      <td>-0.800893</td>\n",
       "      <td>1.066659</td>\n",
       "      <td>no</td>\n",
       "      <td>no</td>\n",
       "      <td>cellular</td>\n",
       "      <td>22</td>\n",
       "      <td>sep</td>\n",
       "      <td>208</td>\n",
       "      <td>2</td>\n",
       "      <td>-1</td>\n",
       "      <td>0</td>\n",
       "      <td>unknown</td>\n",
       "      <td>yes</td>\n",
       "    </tr>\n",
       "  </tbody>\n",
       "</table>\n",
       "</div>"
      ],
      "text/plain": [
       "      age           job  marital  education default  balance  ratio_bal_ln  \\\n",
       "1995   20       student   single    unknown      no     2785     -2.170524   \n",
       "1996   28        admin.   single  secondary      no      127      0.811788   \n",
       "1997   81       retired  married    primary      no     1154      0.504655   \n",
       "1998   46      services  married    primary      no     4343     -0.965874   \n",
       "1999   40  entrepreneur  married  secondary      no     6403     -0.800893   \n",
       "\n",
       "      ratio_ln_inc housing loan    contact  day month  duration  campaign  \\\n",
       "1995      1.081071      no   no   cellular   16   sep       327         2   \n",
       "1996      1.134496      no   no   cellular   16   sep      1334         2   \n",
       "1997      0.042190      no   no  telephone   17   sep       231         1   \n",
       "1998      0.302708     yes   no    unknown   20   sep       185         1   \n",
       "1999      1.066659      no   no   cellular   22   sep       208         2   \n",
       "\n",
       "      pdays  previous poutcome subscribed  \n",
       "1995     -1         0  unknown        yes  \n",
       "1996     -1         0  unknown        yes  \n",
       "1997     -1         0  unknown        yes  \n",
       "1998     -1         0  unknown        yes  \n",
       "1999     -1         0  unknown        yes  "
      ]
     },
     "execution_count": 13,
     "metadata": {},
     "output_type": "execute_result"
    }
   ],
   "source": [
    "data.tail(5)"
   ]
  },
  {
   "cell_type": "code",
   "execution_count": 14,
   "metadata": {
    "colab": {
     "base_uri": "https://localhost:8080/",
     "height": 284
    },
    "colab_type": "code",
    "id": "-0NSggfwKXQD",
    "outputId": "e2629fca-9965-4ae3-b3c0-3214fe5d8bb5"
   },
   "outputs": [
    {
     "data": {
      "text/html": [
       "<div>\n",
       "<style scoped>\n",
       "    .dataframe tbody tr th:only-of-type {\n",
       "        vertical-align: middle;\n",
       "    }\n",
       "\n",
       "    .dataframe tbody tr th {\n",
       "        vertical-align: top;\n",
       "    }\n",
       "\n",
       "    .dataframe thead th {\n",
       "        text-align: right;\n",
       "    }\n",
       "</style>\n",
       "<table border=\"1\" class=\"dataframe\">\n",
       "  <thead>\n",
       "    <tr style=\"text-align: right;\">\n",
       "      <th></th>\n",
       "      <th>age</th>\n",
       "      <th>balance</th>\n",
       "      <th>ratio_bal_ln</th>\n",
       "      <th>ratio_ln_inc</th>\n",
       "      <th>day</th>\n",
       "      <th>duration</th>\n",
       "      <th>campaign</th>\n",
       "      <th>pdays</th>\n",
       "      <th>previous</th>\n",
       "    </tr>\n",
       "  </thead>\n",
       "  <tbody>\n",
       "    <tr>\n",
       "      <th>count</th>\n",
       "      <td>2000.000000</td>\n",
       "      <td>2000.000000</td>\n",
       "      <td>2000.000000</td>\n",
       "      <td>2000.000000</td>\n",
       "      <td>2000.000000</td>\n",
       "      <td>2000.000000</td>\n",
       "      <td>2000.000000</td>\n",
       "      <td>2000.000000</td>\n",
       "      <td>2000.000000</td>\n",
       "    </tr>\n",
       "    <tr>\n",
       "      <th>mean</th>\n",
       "      <td>41.751500</td>\n",
       "      <td>1413.663500</td>\n",
       "      <td>0.241951</td>\n",
       "      <td>0.485030</td>\n",
       "      <td>13.851500</td>\n",
       "      <td>292.020500</td>\n",
       "      <td>1.909500</td>\n",
       "      <td>167.896000</td>\n",
       "      <td>2.561500</td>\n",
       "    </tr>\n",
       "    <tr>\n",
       "      <th>std</th>\n",
       "      <td>12.723077</td>\n",
       "      <td>3131.224213</td>\n",
       "      <td>0.821604</td>\n",
       "      <td>1.075543</td>\n",
       "      <td>9.712189</td>\n",
       "      <td>221.557295</td>\n",
       "      <td>1.378862</td>\n",
       "      <td>131.754126</td>\n",
       "      <td>3.400735</td>\n",
       "    </tr>\n",
       "    <tr>\n",
       "      <th>min</th>\n",
       "      <td>18.000000</td>\n",
       "      <td>-980.000000</td>\n",
       "      <td>-2.632068</td>\n",
       "      <td>-2.851405</td>\n",
       "      <td>1.000000</td>\n",
       "      <td>7.000000</td>\n",
       "      <td>1.000000</td>\n",
       "      <td>-1.000000</td>\n",
       "      <td>0.000000</td>\n",
       "    </tr>\n",
       "    <tr>\n",
       "      <th>25%</th>\n",
       "      <td>32.000000</td>\n",
       "      <td>201.500000</td>\n",
       "      <td>-0.308018</td>\n",
       "      <td>-0.274181</td>\n",
       "      <td>5.000000</td>\n",
       "      <td>146.000000</td>\n",
       "      <td>1.000000</td>\n",
       "      <td>75.750000</td>\n",
       "      <td>1.000000</td>\n",
       "    </tr>\n",
       "    <tr>\n",
       "      <th>50%</th>\n",
       "      <td>38.000000</td>\n",
       "      <td>551.000000</td>\n",
       "      <td>0.224099</td>\n",
       "      <td>0.487082</td>\n",
       "      <td>12.000000</td>\n",
       "      <td>236.000000</td>\n",
       "      <td>1.000000</td>\n",
       "      <td>182.000000</td>\n",
       "      <td>2.000000</td>\n",
       "    </tr>\n",
       "    <tr>\n",
       "      <th>75%</th>\n",
       "      <td>50.000000</td>\n",
       "      <td>1644.500000</td>\n",
       "      <td>0.806315</td>\n",
       "      <td>1.211896</td>\n",
       "      <td>23.000000</td>\n",
       "      <td>379.000000</td>\n",
       "      <td>2.000000</td>\n",
       "      <td>251.000000</td>\n",
       "      <td>3.000000</td>\n",
       "    </tr>\n",
       "    <tr>\n",
       "      <th>max</th>\n",
       "      <td>93.000000</td>\n",
       "      <td>81204.000000</td>\n",
       "      <td>2.961979</td>\n",
       "      <td>4.046914</td>\n",
       "      <td>31.000000</td>\n",
       "      <td>1823.000000</td>\n",
       "      <td>11.000000</td>\n",
       "      <td>854.000000</td>\n",
       "      <td>55.000000</td>\n",
       "    </tr>\n",
       "  </tbody>\n",
       "</table>\n",
       "</div>"
      ],
      "text/plain": [
       "               age       balance  ratio_bal_ln  ratio_ln_inc          day  \\\n",
       "count  2000.000000   2000.000000   2000.000000   2000.000000  2000.000000   \n",
       "mean     41.751500   1413.663500      0.241951      0.485030    13.851500   \n",
       "std      12.723077   3131.224213      0.821604      1.075543     9.712189   \n",
       "min      18.000000   -980.000000     -2.632068     -2.851405     1.000000   \n",
       "25%      32.000000    201.500000     -0.308018     -0.274181     5.000000   \n",
       "50%      38.000000    551.000000      0.224099      0.487082    12.000000   \n",
       "75%      50.000000   1644.500000      0.806315      1.211896    23.000000   \n",
       "max      93.000000  81204.000000      2.961979      4.046914    31.000000   \n",
       "\n",
       "          duration     campaign        pdays     previous  \n",
       "count  2000.000000  2000.000000  2000.000000  2000.000000  \n",
       "mean    292.020500     1.909500   167.896000     2.561500  \n",
       "std     221.557295     1.378862   131.754126     3.400735  \n",
       "min       7.000000     1.000000    -1.000000     0.000000  \n",
       "25%     146.000000     1.000000    75.750000     1.000000  \n",
       "50%     236.000000     1.000000   182.000000     2.000000  \n",
       "75%     379.000000     2.000000   251.000000     3.000000  \n",
       "max    1823.000000    11.000000   854.000000    55.000000  "
      ]
     },
     "execution_count": 14,
     "metadata": {},
     "output_type": "execute_result"
    }
   ],
   "source": [
    "data.describe()"
   ]
  },
  {
   "cell_type": "code",
   "execution_count": 15,
   "metadata": {
    "colab": {
     "base_uri": "https://localhost:8080/",
     "height": 87
    },
    "colab_type": "code",
    "id": "zSdJeEPeuglH",
    "outputId": "2abce979-d239-4af0-de9f-91b462fff97e"
   },
   "outputs": [
    {
     "name": "stdout",
     "output_type": "stream",
     "text": [
      "Index(['age', 'balance', 'ratio_bal_ln', 'ratio_ln_inc', 'day', 'duration',\n",
      "       'campaign', 'pdays', 'previous'],\n",
      "      dtype='object')\n"
     ]
    }
   ],
   "source": [
    "print(data._get_numeric_data().columns)"
   ]
  },
  {
   "cell_type": "markdown",
   "metadata": {
    "colab_type": "text",
    "id": "GLHbTJ8QvAwW"
   },
   "source": [
    "Numerical Fields within the dataset"
   ]
  },
  {
   "cell_type": "code",
   "execution_count": 16,
   "metadata": {
    "colab": {
     "base_uri": "https://localhost:8080/",
     "height": 70
    },
    "colab_type": "code",
    "id": "XcziE9RouxSY",
    "outputId": "70eece2b-b50b-4a5e-c5ac-e4df97f18295"
   },
   "outputs": [
    {
     "data": {
      "text/plain": [
       "Index(['job', 'marital', 'education', 'default', 'housing', 'loan', 'contact',\n",
       "       'month', 'poutcome', 'subscribed'],\n",
       "      dtype='object')"
      ]
     },
     "execution_count": 16,
     "metadata": {},
     "output_type": "execute_result"
    }
   ],
   "source": [
    "data.select_dtypes(include=['category', object]).columns"
   ]
  },
  {
   "cell_type": "markdown",
   "metadata": {
    "colab_type": "text",
    "id": "TRdNJMBVvHA2"
   },
   "source": [
    "Categorical Fields within the dataset"
   ]
  },
  {
   "cell_type": "markdown",
   "metadata": {
    "colab_type": "text",
    "id": "RJ9_pYQdKXQH"
   },
   "source": [
    "# The age range is between 18 and 93 with the minimum age being 18\n",
    "# The balance is can range from minus 980 to 8k with the minimum balance being in the negative\n",
    "# A campaign can range in duration of between 1 and 11 days with the mimimum day of being one\n",
    "# The payment days can be behind one day or max be 854 days with the mimimum of being a day behind in payment\n",
    "# The duration can be between 7 days and 1,823 days"
   ]
  },
  {
   "cell_type": "code",
   "execution_count": 17,
   "metadata": {
    "colab": {
     "base_uri": "https://localhost:8080/",
     "height": 542
    },
    "colab_type": "code",
    "id": "mONET4SNKXQH",
    "outputId": "d1aa8b80-39d1-432a-b6d0-98d7c4d159a9"
   },
   "outputs": [
    {
     "data": {
      "text/plain": [
       "<matplotlib.axes._subplots.AxesSubplot at 0x29980351048>"
      ]
     },
     "execution_count": 17,
     "metadata": {},
     "output_type": "execute_result"
    },
    {
     "data": {
      "image/png": "[encoded data removed]",
      "text/plain": [
       "<Figure size 1440x576 with 2 Axes>"
      ]
     },
     "metadata": {
      "needs_background": "light"
     },
     "output_type": "display_data"
    }
   ],
   "source": [
    "f, ax = plt.subplots(figsize=(20, 8))\n",
    "corr = data.corr()\n",
    "sns.heatmap(corr, mask=np.zeros_like(corr, dtype=np.bool), cmap=sns.diverging_palette(220, 10, as_cmap=True),\n",
    "            square=True, ax=ax)"
   ]
  },
  {
   "cell_type": "markdown",
   "metadata": {
    "colab_type": "text",
    "id": "dwX4DlzuKXQ_"
   },
   "source": [
    "# There is no strong correlation between the columns.\n",
    "# There is only low correlation between age, balance with a stronger correlation between ratio_bal_in and subscribed"
   ]
  },
  {
   "cell_type": "markdown",
   "metadata": {
    "colab_type": "text",
    "id": "zLi--MRtveTK"
   },
   "source": [
    "# Numerical Categories"
   ]
  },
  {
   "cell_type": "code",
   "execution_count": 18,
   "metadata": {
    "colab": {
     "base_uri": "https://localhost:8080/",
     "height": 645
    },
    "colab_type": "code",
    "id": "rpggIkLDKXQK",
    "outputId": "bd2111b4-9ed7-4f15-b1a1-17abd4cd5e25"
   },
   "outputs": [
    {
     "data": {
      "text/plain": [
       "Text(0, 0.5, 'Count')"
      ]
     },
     "execution_count": 18,
     "metadata": {},
     "output_type": "execute_result"
    },
    {
     "data": {
      "image/png": "[encoded data removed]",
      "text/plain": [
       "<Figure size 7200x720 with 1 Axes>"
      ]
     },
     "metadata": {
      "needs_background": "light"
     },
     "output_type": "display_data"
    }
   ],
   "source": [
    "f, ax = plt.subplots(figsize=(100, 10))\n",
    "data['age'].value_counts().plot(kind='bar',ax=ax)\n",
    "plt.xlabel('age')\n",
    "plt.ylabel('Count')"
   ]
  },
  {
   "cell_type": "markdown",
   "metadata": {
    "colab_type": "text",
    "id": "pARhcsKsKXQM"
   },
   "source": [
    "# The age of the group is slightly biased in that there isnt an even spread across the age groups as you can see in the above graph as it goes down in age the there are less samples available for the older age groups."
   ]
  },
  {
   "cell_type": "code",
   "execution_count": null,
   "metadata": {},
   "outputs": [],
   "source": [
    "data.boxplot(column='age', by='balance')\n",
    "plt.title('Boxplot of ApplicantIncome grouped by Education')\n",
    "plt.suptitle(\"\") "
   ]
  },
  {
   "cell_type": "code",
   "execution_count": null,
   "metadata": {
    "colab": {
     "base_uri": "https://localhost:8080/",
     "height": 284
    },
    "colab_type": "code",
    "id": "_CK2HID_KXQO",
    "outputId": "932de4c7-b9f1-49cd-c8c9-0ab3d7286cca"
   },
   "outputs": [],
   "source": [
    "data[data['balance'] <-600].describe()"
   ]
  },
  {
   "cell_type": "code",
   "execution_count": null,
   "metadata": {
    "colab": {
     "base_uri": "https://localhost:8080/",
     "height": 284
    },
    "colab_type": "code",
    "id": "YaZGHRmbOWbO",
    "outputId": "480b9708-97ac-41ac-e91a-5c819fa4c667"
   },
   "outputs": [],
   "source": [
    "data[data['balance'] >-1000].describe()"
   ]
  },
  {
   "cell_type": "markdown",
   "metadata": {
    "colab_type": "text",
    "id": "O5MaYySnKXQR"
   },
   "source": [
    "# There are 86 people who dont have a balance within their account\n",
    "# 9 individuals only have a balance of 1 in their account.\n",
    "# 5 individuals only have a balance of 5 in their account with 6 individuals only having a balance of 4 in their account\n",
    "# The balance is slighly skewed to going upwards from 100"
   ]
  },
  {
   "cell_type": "markdown",
   "metadata": {
    "colab_type": "text",
    "id": "ltD2QIkcvng9"
   },
   "source": [
    "# Categorical Categories"
   ]
  },
  {
   "cell_type": "code",
   "execution_count": null,
   "metadata": {},
   "outputs": [],
   "source": [
    "data['job'].value_counts()"
   ]
  },
  {
   "cell_type": "code",
   "execution_count": null,
   "metadata": {
    "colab": {
     "base_uri": "https://localhost:8080/",
     "height": 695
    },
    "colab_type": "code",
    "id": "AQCOK8-nKXQS",
    "outputId": "38aba2cd-0872-47f0-db79-a7884e9bce78"
   },
   "outputs": [],
   "source": [
    "f, ax = plt.subplots(figsize=(50, 10))\n",
    "data['job'].value_counts().plot(kind='bar',ax=ax)\n",
    "plt.xlabel('Job')\n",
    "plt.ylabel('Count')"
   ]
  },
  {
   "cell_type": "markdown",
   "metadata": {
    "colab_type": "text",
    "id": "-XGJxxXTKXQW"
   },
   "source": [
    "# A large proporation of population are in management, technical or blue collar jobs explaining that their balance is slightly higher compared to assumed lower income groups"
   ]
  },
  {
   "cell_type": "code",
   "execution_count": null,
   "metadata": {
    "colab": {
     "base_uri": "https://localhost:8080/",
     "height": 105
    },
    "colab_type": "code",
    "id": "fPboj4tXotqZ",
    "outputId": "d9a34b99-be9a-4ce0-cfd6-fbf3354e592b"
   },
   "outputs": [],
   "source": [
    "data['education'].value_counts()"
   ]
  },
  {
   "cell_type": "code",
   "execution_count": null,
   "metadata": {
    "colab": {
     "base_uri": "https://localhost:8080/",
     "height": 658
    },
    "colab_type": "code",
    "id": "hxrIOVw4KXQX",
    "outputId": "512c7ae6-59dd-420f-ee26-19a6cd77a9eb"
   },
   "outputs": [],
   "source": [
    "f, ax = plt.subplots(figsize=(20, 10))\n",
    "data['education'].value_counts().plot(kind='bar',ax=ax)\n",
    "plt.xlabel('Education')\n",
    "plt.ylabel('Count')"
   ]
  },
  {
   "cell_type": "markdown",
   "metadata": {
    "colab_type": "text",
    "id": "zGYdVJLnKXQa"
   },
   "source": [
    "# A large proportion of the population have received secondary education with a 1/3 of the cohort from secondary not considering to go onto third level education"
   ]
  },
  {
   "cell_type": "code",
   "execution_count": null,
   "metadata": {
    "colab": {
     "base_uri": "https://localhost:8080/",
     "height": 365
    },
    "colab_type": "code",
    "id": "Za6g-xBWKXQa",
    "outputId": "f9e59c9b-e2f2-424e-cbb7-eb7178ac90ca"
   },
   "outputs": [],
   "source": [
    "data.boxplot(column='age')"
   ]
  },
  {
   "cell_type": "code",
   "execution_count": null,
   "metadata": {
    "colab": {},
    "colab_type": "code",
    "id": "2ZMz3Ag_KXQg"
   },
   "outputs": [],
   "source": [
    "data['subscribed'] = data['subscribed'].map({'yes': 1, 'no': 0})"
   ]
  },
  {
   "cell_type": "code",
   "execution_count": null,
   "metadata": {
    "colab": {
     "base_uri": "https://localhost:8080/",
     "height": 717
    },
    "colab_type": "code",
    "id": "xwt6IznwKXQj",
    "outputId": "43b85b57-5dfd-426c-cd85-cdcbb3c76df3"
   },
   "outputs": [],
   "source": [
    "f, ax = plt.subplots(figsize=(100, 10))\n",
    "age_default = pd.crosstab(data['age'], data['subscribed'])\n",
    "age_default.plot(kind='bar', stacked=True, color=['green', 'yellow'],ax=ax)\n",
    "plt.suptitle('Number of individuals that subscribed of a given age')"
   ]
  },
  {
   "cell_type": "markdown",
   "metadata": {
    "colab_type": "text",
    "id": "Oz40-b5fV-ap"
   },
   "source": [
    "The subscriptions are condensed from ages to 26 to 60 with less around the periphery"
   ]
  },
  {
   "cell_type": "code",
   "execution_count": null,
   "metadata": {
    "colab": {},
    "colab_type": "code",
    "id": "i7r359nNKXQm"
   },
   "outputs": [],
   "source": [
    "data['default'] = data['default'].map({'yes': 1, 'no': 0})"
   ]
  },
  {
   "cell_type": "code",
   "execution_count": null,
   "metadata": {
    "colab": {
     "base_uri": "https://localhost:8080/",
     "height": 633
    },
    "colab_type": "code",
    "id": "Jgi7dMNoKXQp",
    "outputId": "5f04f27a-8c9d-41d5-c07e-d7202f5b1d3f"
   },
   "outputs": [],
   "source": [
    "f, ax = plt.subplots(figsize=(50, 10))\n",
    "data.boxplot(column='age', by='default',ax=ax)\n",
    "plt.title('Boxplot of age grouped by default')\n",
    "plt.xticks(rotation=90)\n",
    "plt.suptitle(\"\")\n",
    "plt.show()"
   ]
  },
  {
   "cell_type": "code",
   "execution_count": null,
   "metadata": {
    "colab": {
     "base_uri": "https://localhost:8080/",
     "height": 689
    },
    "colab_type": "code",
    "id": "qG1YGTZDKXQr",
    "outputId": "ff26e920-ef93-4402-f23c-eeff91d1cb23"
   },
   "outputs": [],
   "source": [
    "f, ax = plt.subplots(figsize=(50, 10))\n",
    "data.boxplot(column='age', by='job',ax=ax)\n",
    "plt.title('Boxplot of age grouped by job')\n",
    "plt.xticks(rotation=90)\n",
    "plt.suptitle(\"\")\n",
    "plt.show()"
   ]
  },
  {
   "cell_type": "markdown",
   "metadata": {
    "colab_type": "text",
    "id": "H_HOpEqPKXQu"
   },
   "source": [
    "# A large proporation of the population are in between 32 and 50. This is biased based on age not including an even distribution across the 60,70,80,90 range"
   ]
  },
  {
   "cell_type": "markdown",
   "metadata": {
    "colab_type": "text",
    "id": "tpPG40V2KXQv"
   },
   "source": [
    "# The dataset varies with one individual in the 80's range having a balance of ~80K to a individual in the 95 range having a balance of 0. In between there are 2 individuals between the ranges 70 - 80 having a balance of ~25k.\n",
    "# There is 1 individual between  50 - 60 having a similar balance of ~25k.\n",
    "# There is 1 individual of age of 49 having 20k\n",
    "# There is 1 individual having a ~45 having 30k\n",
    "# There is 1 individual age of (~32,~42) having a balance of ~25 - ~28k\n",
    "# There is a small number of samples in 70,80,90 range which is concerning as not an evenly distributed dataset based on age. There is some outliners in the dataset particularly with the one individual in his 80's having a large balance"
   ]
  },
  {
   "cell_type": "markdown",
   "metadata": {
    "colab_type": "text",
    "id": "13xBYMHiKXQv"
   },
   "source": [
    "# There is a large numbers employed in technical/ Management level\n",
    "# The Job Range is \n",
    "# Adminstrators are between ~32 and ~48 with median of ~39\n",
    "# blue collar workers are between ~33 and ~45 with median a year or two behind admins\n",
    "# entrpreneurs are between ~36 and ~55 with median between ~45\n",
    "# housemaids are between ~35 and ~55 with median of 48\n",
    "# managment are between ~33 and ~48 with median of 34\n",
    "# retired are between ~60 and ~73 with median of 66\n",
    "# self employed are between ~30 and ~48 with median of ~34\n",
    "# services are between ~31 and 44 median of 35\n",
    "# students are between ~25 and ~29 with median of ~25"
   ]
  },
  {
   "cell_type": "code",
   "execution_count": null,
   "metadata": {
    "colab": {
     "base_uri": "https://localhost:8080/",
     "height": 385
    },
    "colab_type": "code",
    "id": "hddm-pXhKXQw",
    "outputId": "bd00182f-5a5e-407a-d65f-bf14c6d95d7f"
   },
   "outputs": [],
   "source": [
    "data['housing'].value_counts().plot(kind='bar')\n",
    "plt.xlabel('Housing')\n",
    "plt.ylabel('Count')"
   ]
  },
  {
   "cell_type": "markdown",
   "metadata": {
    "colab_type": "text",
    "id": "Rge2aW_DKXQz"
   },
   "source": [
    "# There is a greater spead of individuals who do not have housing compared to those who do."
   ]
  },
  {
   "cell_type": "code",
   "execution_count": null,
   "metadata": {
    "colab": {
     "base_uri": "https://localhost:8080/",
     "height": 643
    },
    "colab_type": "code",
    "id": "GrupiwPxKXQ0",
    "outputId": "876e2e3d-5635-4b89-826f-90493c6a0bb2"
   },
   "outputs": [],
   "source": [
    "f, ax = plt.subplots(figsize=(100, 10))\n",
    "sns.stripplot(x=data['age'],y=data['balance'],jitter=True,ax=ax)"
   ]
  },
  {
   "cell_type": "markdown",
   "metadata": {
    "colab_type": "text",
    "id": "BbTa3wMxKXQ3"
   },
   "source": [
    "# Generate two plots with the combined distribution of attributes and draw conclusions from them (in a markdown cell)."
   ]
  },
  {
   "cell_type": "code",
   "execution_count": null,
   "metadata": {
    "colab": {
     "base_uri": "https://localhost:8080/",
     "height": 643
    },
    "colab_type": "code",
    "id": "BJF5xiJRKXQ4",
    "outputId": "edece3e0-8624-411a-d3b0-05ce94b79f4f"
   },
   "outputs": [],
   "source": [
    "f, ax = plt.subplots(figsize=(50, 10))\n",
    "sns.regplot(y='age', x='balance', data=data,ax=ax)"
   ]
  },
  {
   "cell_type": "code",
   "execution_count": null,
   "metadata": {
    "colab": {
     "base_uri": "https://localhost:8080/",
     "height": 428
    },
    "colab_type": "code",
    "id": "_Dbq8j-DKXQ7",
    "outputId": "0f5a86b9-cc2c-450d-8267-b104861b0826"
   },
   "outputs": [],
   "source": [
    "fig, axs = plt.subplots(ncols=3,figsize=(30,5))\n",
    "sns.violinplot(x='education', y='ratio_bal_ln',data=data, ax=axs[0])\n",
    "sns.violinplot(x='education', y='ratio_ln_inc',data=data, ax=axs[1])\n",
    "sns.violinplot(x='education', y='balance', data=data, ax=axs[2])\n",
    "plt.show()"
   ]
  },
  {
   "cell_type": "code",
   "execution_count": null,
   "metadata": {
    "colab": {
     "base_uri": "https://localhost:8080/",
     "height": 389
    },
    "colab_type": "code",
    "id": "376pdKFqKXQ8",
    "outputId": "5c82d4ed-d8e4-4a31-af9a-c139a6c245e7"
   },
   "outputs": [],
   "source": [
    "fig, axs = plt.subplots(ncols=3,figsize=(30,5))\n",
    "sns.countplot(x='loan', data=data, ax=axs[0])\n",
    "sns.countplot(x='default', data=data, ax=axs[1])\n",
    "sns.countplot(x='subscribed', data=data, ax=axs[2])\n",
    "plt.show()"
   ]
  },
  {
   "cell_type": "markdown",
   "metadata": {
    "colab_type": "text",
    "id": "8KrARAOaKXQ-"
   },
   "source": [
    "# Generate additional plots to identify two numerical attributes that can potentially be used for predicting the value of the dependent variable you chose in Task 1."
   ]
  },
  {
   "cell_type": "code",
   "execution_count": null,
   "metadata": {
    "colab": {
     "base_uri": "https://localhost:8080/",
     "height": 1911
    },
    "colab_type": "code",
    "id": "GgAvzvYisDtz",
    "outputId": "800c3e84-8621-433a-b697-f0b5947e56f8",
    "scrolled": true
   },
   "outputs": [],
   "source": [
    "tab = pd.crosstab([data.age, data.balance], data.default).sort_values('balance', ascending=True)\n",
    "tab[:20].plot(kind='bar', stacked=False)\n",
    "plt.show()"
   ]
  },
  {
   "cell_type": "markdown",
   "metadata": {},
   "source": [
    "# A comparison between the age, balance and default risk show among the ages of 33,44,41,48,57,26 are in default risk"
   ]
  },
  {
   "cell_type": "code",
   "execution_count": null,
   "metadata": {
    "colab": {
     "base_uri": "https://localhost:8080/",
     "height": 366
    },
    "colab_type": "code",
    "id": "k5JL_yrlkqey",
    "outputId": "5ff32efc-3c67-48d5-dc35-66fb1fba3b8b"
   },
   "outputs": [],
   "source": [
    "colors = data.default.map(dict(yes='red', no='green'))\n",
    "data.plot.scatter(x='balance', y='age',  color=colors)\n",
    "plt.title('Scatterplot of Ratio of age compared to balance')\n",
    "plt.xlabel('Balance')\n",
    "plt.ylabel('Age')"
   ]
  },
  {
   "cell_type": "markdown",
   "metadata": {
    "colab_type": "text",
    "id": "PMXHar9-k2Yj"
   },
   "source": [
    "There is no overlap between these variable just to highlight that this will not work for the classification. Just to be used a good reference of how not to look for data."
   ]
  },
  {
   "cell_type": "code",
   "execution_count": null,
   "metadata": {
    "colab": {
     "base_uri": "https://localhost:8080/",
     "height": 366
    },
    "colab_type": "code",
    "id": "dqA-e4mHkK9_",
    "outputId": "714de6a6-99e2-4604-e96d-ddcd66c8cade"
   },
   "outputs": [],
   "source": [
    "colors = data.default.map(dict(yes='red', no='blue'))\n",
    "data.plot.scatter(x='ratio_bal_ln', y='ratio_ln_inc',  color=colors)\n",
    "plt.title('Scatterplot of Ratio of Ln_inc compared to bal_ln')\n",
    "plt.xlabel('Ratio_bal_ln')\n",
    "plt.ylabel('Ratio of Loan to Income')"
   ]
  },
  {
   "cell_type": "markdown",
   "metadata": {
    "colab_type": "text",
    "id": "bOXtm-YClnBS"
   },
   "source": [
    "In Comparison this is ideal for classification given a strong overlap in variables of ratio_bal_in and ration_In_inc"
   ]
  },
  {
   "cell_type": "markdown",
   "metadata": {
    "colab_type": "text",
    "id": "pXJJ6E2TKXRA"
   },
   "source": [
    "\n",
    "# You won't find two numerical attributes that will perfectly classify a dependent variable. Pick the best you can find."
   ]
  },
  {
   "cell_type": "markdown",
   "metadata": {
    "colab_type": "text",
    "id": "GCiegqqVl24h"
   },
   "source": [
    "The ideal variable for classification are\n",
    "X = data['ratio_balance_in'] and data['ratio_ln_inc'] and Y= data['Subscribed']\n",
    "A bad classification example would be:\n",
    "X = data['age'] and data['balance'] and Y= data['default'] as the data doesnt support this being used"
   ]
  },
  {
   "cell_type": "markdown",
   "metadata": {
    "colab_type": "text",
    "id": "Jv7q__eWKXRA"
   },
   "source": [
    "# Task 3\n",
    "# Consider the two numerical attributes picked in Task 2 and describe (in a markdown cell) how a perceptron can be used to perform 2-class classification. Use the following terms in your description:\n",
    "\n",
    "* Input space X\n",
    "This is the variable X that contains two numerical categories from the dataset of 2000 Records i.e [‘ratio_bal_ln’,’ratio_ln_inc’] or [‘Age’,’Balance’] \n",
    "* Output space Y\n",
    "This is the predictor variable Y that is a categorical category with the dataset of the 2000 in X ['subscribed'] ,[‘default’] \n",
    "* Unknown target function f : X -> Y\n",
    "Is the ideal formula for predicting whether a individual has subscribed or defaulted.\n",
    "* Data set D  (historical records of bank) \n",
    "This is the 2000 historical records of the bank i.e (X1,y1).....(Xn,Yn)\n",
    "* Hypothesis set H (Set of Candidate Formulas)\n",
    "This is the set of candidate formulas \n",
    "* Final Hypothesis g = f \n",
    "The decision is based on the g (hypotheis that the learning algorithm produced not on f where the ideal target function that remains unknown\n",
    "* In-sample error Ein(g)\n",
    "This is error rate within the training sample this is explicitly dependent on the hypothesis we are considering.\n",
    "* Out-of-sample error Eout(g)\n",
    "This measures how well the our training on D has generalised to the data that we have not seen before. It is based on the entire input space X. These points must be fresh and have not been used for training\n",
    "\n",
    "# PT[Ein(h) - Eout(h)] |> e] <= 2e-2e^2N"
   ]
  },
  {
   "cell_type": "markdown",
   "metadata": {
    "colab_type": "text",
    "id": "QttJEeJ0KXRB"
   },
   "source": [
    "# Task 4"
   ]
  },
  {
   "cell_type": "markdown",
   "metadata": {
    "colab_type": "text",
    "id": "bZshztQsKXRC"
   },
   "source": [
    "![The Learning Diagram]( .\\images\\LearningDiagramplusnoise.jpg \"The Learning Diagram\")"
   ]
  },
  {
   "cell_type": "code",
   "execution_count": null,
   "metadata": {
    "colab": {},
    "colab_type": "code",
    "id": "tfHZ0H83KXRD"
   },
   "outputs": [],
   "source": [
    "# H Set of Candidate Formulas\n",
    "def h(x,w):\n",
    "    #Perceptron model: the sign of the dot product of weights and input vector determines the class allocation\n",
    "    bias = np.array([1])\n",
    "    return np.sign(w.T.dot(np.concatenate((bias,x))))"
   ]
  },
  {
   "cell_type": "code",
   "execution_count": null,
   "metadata": {
    "colab": {},
    "colab_type": "code",
    "id": "qTyYZUOxKXRF"
   },
   "outputs": [],
   "source": [
    "def calc_error(training_in, training_out, weights):\n",
    "    # Calculate the classification error as the fraction of training samples that are misclassified\n",
    "    errors=0\n",
    "    for x,y in zip(training_in, training_out):\n",
    "        if (h(x,weights)!=y):\n",
    "            errors+=1;\n",
    "    return errors"
   ]
  },
  {
   "cell_type": "code",
   "execution_count": null,
   "metadata": {
    "colab": {},
    "colab_type": "code",
    "id": "530z-UExKXRG"
   },
   "outputs": [],
   "source": [
    "def decision_boundary(weights, x_min, x_max):\n",
    "    # Return two points on the decision boundary\n",
    "    return [point_on_boundary(weights,x_min), point_on_boundary(weights,x_max)]"
   ]
  },
  {
   "cell_type": "code",
   "execution_count": null,
   "metadata": {
    "colab": {},
    "colab_type": "code",
    "id": "AWxH1iQVKXRK"
   },
   "outputs": [],
   "source": [
    "def point_on_boundary(weights, x):\n",
    "    # Return the y-position on the boundary based on given x-position\n",
    "    return -(weights[0]+weights[1]*x)/weights[2]"
   ]
  },
  {
   "cell_type": "code",
   "execution_count": null,
   "metadata": {
    "colab": {},
    "colab_type": "code",
    "id": "S_JgiRM0KXRN"
   },
   "outputs": [],
   "source": [
    "# A Algorithm\n",
    "def pla(training_in, training_out,weights,max_iterations):\n",
    "    bias = np.array([1])\n",
    "    iterations=0\n",
    "    while iterations < max_iterations:\n",
    "        errors = 0;\n",
    "        for x,y in zip(training_in, training_out):\n",
    "            if (h(x,weights)!=y):\n",
    "                iterations+=1;\n",
    "                weights = weights + y*(np.concatenate((bias,x)))\n",
    "                print(\"x:{} new weights:{} bias:{} errors:{}\".format(x, weights, bias, errors))\n",
    "                errors+=1;\n",
    "        if (errors == 0):\n",
    "            print(\"Hypothesis discovered at iterations:\", iterations)\n",
    "            break\n",
    "        \n",
    "    return weights, iterations"
   ]
  },
  {
   "cell_type": "code",
   "execution_count": null,
   "metadata": {
    "colab": {},
    "colab_type": "code",
    "id": "RUO6-0asgIJT"
   },
   "outputs": [],
   "source": [
    "def init_weights(X,random_state):\n",
    "    random_generator = np.random.RandomState(random_state)\n",
    "    x_rows, x_columns = X.shape\n",
    "    x_columns = x_columns+1\n",
    "    return random_generator.normal(loc=0.0, scale=0.001, size=x_columns) "
   ]
  },
  {
   "cell_type": "code",
   "execution_count": null,
   "metadata": {
    "colab": {},
    "colab_type": "code",
    "id": "Ph8OgJfNKXRQ"
   },
   "outputs": [],
   "source": [
    "def print__(X, y,weights,isboundary):\n",
    "    if isboundary:\n",
    "        y_bound = np.zeros([2])\n",
    "        X_bound = np.zeros([2])\n",
    "    \n",
    "        X_bound[0] = X[:,0].min()\n",
    "        X_bound[1] = X[:,0].max()\n",
    "\n",
    "       \n",
    "    \n",
    "    colors = ['yellow' if yy == 1 else 'orange' for yy in y] \n",
    "    plt.rcParams[\"figure.figsize\"] = (10, 5) \n",
    "    plt.title(\"\")\n",
    "    plt.scatter(X[:,0], X[:,1], color=colors) \n",
    "    \n",
    "    if isboundary:\n",
    "        y_bound[0], y_bound[1] = decision_boundary(weights, X_bound[0], X_bound[1])\n",
    "        plt.plot(X_bound, y_bound, linestyle='dashed', color='black')\n",
    "    \n",
    "    plt.show() "
   ]
  },
  {
   "cell_type": "code",
   "execution_count": null,
   "metadata": {
    "colab": {},
    "colab_type": "code",
    "id": "2TKaZgjXKXR7"
   },
   "outputs": [],
   "source": [
    "def pocket(training_in, training_out, weights,max_iterations):\n",
    "    bias = np.array([1])\n",
    "    iterations = 0\n",
    "    best_iteration = 0\n",
    "    best_weight = 0\n",
    "    best_reported_error = 0\n",
    "    previous_error = 0\n",
    "        \n",
    "    best_pocket_error = calc_error(training_in, training_out, weights)\n",
    "    \n",
    "    while iterations < max_iterations:\n",
    "        errors = 0;\n",
    "        iterations+=1;\n",
    "        for x,y in zip(training_in, training_out):\n",
    "            hypothesis = h(x,weights)\n",
    "            \n",
    "            print(\"Iteration:{}/{}\".format(iterations, max_iterations))\n",
    "            if (hypothesis != y):\n",
    "                  current_error = calc_error(training_in, training_out, weights)\n",
    "                  if current_error < best_pocket_error:\n",
    "                    # pocket the weights of the best\n",
    "                    best_weights = weights\n",
    "                    best_iteration = current_iteration\n",
    "                  \n",
    "                    weights = weights + y*(np.concatenate((bias,x)))\n",
    "                    errors+=1;\n",
    "                    \n",
    "            if iterations == 0:\n",
    "                continue\n",
    "            \n",
    "            if iterations == max_iterations:\n",
    "                break\n",
    "                \n",
    "            if (errors == 0):\n",
    "                break\n",
    "                \n",
    "    return best_weight , best_iteration"
   ]
  },
  {
   "cell_type": "code",
   "execution_count": null,
   "metadata": {
    "colab": {},
    "colab_type": "code",
    "id": "Rb7ofKmPKXRV"
   },
   "outputs": [],
   "source": [
    "def print__epsilons(distribution):\n",
    "    for d in range(0,len(distribution)):\n",
    "        dist = lists[distribution]\n",
    "        prob_epsilon=[]\n",
    "        epsilons = np.arange(0, 1, 0.01)\n",
    "        for e in epsilons:\n",
    "            prob_epsilon.append(len([1 for i in dist if abs(i-0.5) > e])/len(dist))\n",
    "    \n",
    "        plt.figure()\n",
    "        plt.plot(epsilons, prob_epsilon)\n",
    "        plt.plot(epsilons, [2*math.exp(-2*e**2*N) for e in epsilons])\n",
    "        plt.title(titles[distribution])\n",
    "        plt.show"
   ]
  },
  {
   "cell_type": "markdown",
   "metadata": {
    "colab_type": "text",
    "id": "CN-CFCd4KXRW"
   },
   "source": [
    "# Run the provided perceptron learning algorithm (PLA) on the dataset provided in the notebook. Take note of the number of iterations that were required to come to the final hypothesis and the final error. "
   ]
  },
  {
   "cell_type": "code",
   "execution_count": null,
   "metadata": {
    "colab": {},
    "colab_type": "code",
    "id": "yrPPzNfyKXRX"
   },
   "outputs": [],
   "source": [
    "X, y = make_blobs(n_samples=1000, centers=2, n_features=2)\n",
    "y = [yy if yy == 1 else -1 for yy in y] "
   ]
  },
  {
   "cell_type": "code",
   "execution_count": null,
   "metadata": {
    "colab": {},
    "colab_type": "code",
    "id": "5qlbJDOqKXRa"
   },
   "outputs": [],
   "source": [
    "X_train, X_test, y_train, y_test = train_test_split(X, y, test_size=0.4)"
   ]
  },
  {
   "cell_type": "code",
   "execution_count": null,
   "metadata": {
    "colab": {},
    "colab_type": "code",
    "id": "4NNh5O2Lgiq6"
   },
   "outputs": [],
   "source": [
    "X_train_weights = init_weights(X_train,1)"
   ]
  },
  {
   "cell_type": "code",
   "execution_count": null,
   "metadata": {
    "colab": {
     "base_uri": "https://localhost:8080/",
     "height": 34
    },
    "colab_type": "code",
    "id": "bfKVyCLHgp5N",
    "outputId": "31a25dfc-de6b-49ae-ba79-3ee445583597"
   },
   "outputs": [],
   "source": [
    "print(X_train_weights)"
   ]
  },
  {
   "cell_type": "code",
   "execution_count": null,
   "metadata": {
    "colab": {
     "base_uri": "https://localhost:8080/",
     "height": 320
    },
    "colab_type": "code",
    "id": "ZYM7dQYBKXRc",
    "outputId": "431322bf-979f-41f6-9d64-713a25c9d209"
   },
   "outputs": [],
   "source": [
    "print__(X_test,y_test,X_train_weights,False)"
   ]
  },
  {
   "cell_type": "code",
   "execution_count": null,
   "metadata": {
    "colab": {},
    "colab_type": "code",
    "id": "HMNm54-fKXRf"
   },
   "outputs": [],
   "source": [
    "def run(X,y,w,ispocket,max_iterations):\n",
    "    if ispocket:\n",
    "        (w,iteration_n) = pocket(X,y,w,max_iterations)\n",
    "    else:\n",
    "        (w,iteration_n) = pla(X,y,w,max_iterations)\n",
    "    \n",
    "    print__(X,y,w,True)\n",
    "    \n",
    "    #print__epsilons(w)\n",
    "    \n",
    "    return (w,iteration_n)"
   ]
  },
  {
   "cell_type": "code",
   "execution_count": null,
   "metadata": {
    "colab": {
     "base_uri": "https://localhost:8080/",
     "height": 390
    },
    "colab_type": "code",
    "id": "fV_YXb9XKXRh",
    "outputId": "42f59dd4-1224-4dc8-c603-96da142eb357"
   },
   "outputs": [],
   "source": [
    "blob_weights, blob_iterations = run(X_train,y_train,X_train_weights,False,10)\n",
    "print(blob_weights, blob_iterations)"
   ]
  },
  {
   "cell_type": "code",
   "execution_count": null,
   "metadata": {
    "colab": {
     "base_uri": "https://localhost:8080/",
     "height": 34
    },
    "colab_type": "code",
    "id": "dEgHL05SKXRk",
    "outputId": "9984bca2-3828-480a-addd-093d4f11cc82"
   },
   "outputs": [],
   "source": [
    "calc_error(X_train,y_train,X_train_weights)"
   ]
  },
  {
   "cell_type": "markdown",
   "metadata": {
    "colab_type": "text",
    "id": "pPBq0ylBT4M7"
   },
   "source": [
    "On the blobs datasets the data is linerly seperable as the bound aligns to seperate both datasets"
   ]
  },
  {
   "cell_type": "markdown",
   "metadata": {
    "colab_type": "text",
    "id": "Hf44VrpiKXRw"
   },
   "source": [
    "# Test using variables that have a stronger correlation"
   ]
  },
  {
   "cell_type": "code",
   "execution_count": null,
   "metadata": {
    "colab": {},
    "colab_type": "code",
    "id": "tfrnBsnXKXRo"
   },
   "outputs": [],
   "source": [
    "Xd1 = data[['ratio_bal_ln', 'ratio_ln_inc']].values\n",
    "yd1 = data['subscribed_code'].values"
   ]
  },
  {
   "cell_type": "code",
   "execution_count": null,
   "metadata": {
    "colab": {
     "base_uri": "https://localhost:8080/",
     "height": 167
    },
    "colab_type": "code",
    "id": "Mb59hD3eKXRp",
    "outputId": "2842c34a-00d9-4654-c2a5-226663140268"
   },
   "outputs": [],
   "source": [
    "Xd1_train, Xd1_test, yd1_train, yd1_test = train_test_split(Xd1,yd1, test_size=0.4)"
   ]
  },
  {
   "cell_type": "code",
   "execution_count": null,
   "metadata": {
    "colab": {},
    "colab_type": "code",
    "id": "wVOvSIYfqEYO"
   },
   "outputs": [],
   "source": [
    "Xd1_train_weights = init_weights(Xd1_train,1)"
   ]
  },
  {
   "cell_type": "code",
   "execution_count": null,
   "metadata": {
    "colab": {},
    "colab_type": "code",
    "id": "1T0MB2m3KXRr"
   },
   "outputs": [],
   "source": [
    "run(Xd1_train,yd1_train,Xd1_train_weights,False,100)"
   ]
  },
  {
   "cell_type": "code",
   "execution_count": null,
   "metadata": {
    "colab": {},
    "colab_type": "code",
    "id": "Kt_1uGisKXRs"
   },
   "outputs": [],
   "source": [
    "Xd1Ein = calc_error(Xd1_train,yd1_train,Xd1_train_weights)\n",
    "print(Xd1Ein)"
   ]
  },
  {
   "cell_type": "code",
   "execution_count": null,
   "metadata": {
    "colab": {},
    "colab_type": "code",
    "id": "_-zYjUpfY0Ov"
   },
   "outputs": [],
   "source": [
    "Xd1Eout = calc_error(Xd1_test,yd1_test,Xd1_train_weights)\n",
    "print(Xd1Eout)"
   ]
  },
  {
   "cell_type": "markdown",
   "metadata": {
    "colab_type": "text",
    "id": "SMUU_E1bvLoa"
   },
   "source": [
    "# Test using variables that dont have any correlation. Data is not seperable"
   ]
  },
  {
   "cell_type": "code",
   "execution_count": null,
   "metadata": {
    "colab": {},
    "colab_type": "code",
    "id": "0tpL-uyyKXRy"
   },
   "outputs": [],
   "source": [
    "Xd2 = data[['age', 'balance']].values\n",
    "yd2_labels = data[['default']].values\n",
    "yd2 = [1 if yy == 'yes' else -1 for yy in yd2_labels] "
   ]
  },
  {
   "cell_type": "code",
   "execution_count": null,
   "metadata": {
    "colab": {},
    "colab_type": "code",
    "id": "P8mzQXN9KXRz"
   },
   "outputs": [],
   "source": [
    "Xd2_train, Xd2_test, yd2_train, yd2_test = train_test_split(Xd2,yd2, test_size=0.4)"
   ]
  },
  {
   "cell_type": "code",
   "execution_count": null,
   "metadata": {
    "colab": {},
    "colab_type": "code",
    "id": "TIbdRRJLq0PT"
   },
   "outputs": [],
   "source": [
    "Xd2_train_weights = init_weights(Xd2_train,1)"
   ]
  },
  {
   "cell_type": "code",
   "execution_count": null,
   "metadata": {
    "colab": {},
    "colab_type": "code",
    "id": "lY7FQg5tKXR1"
   },
   "outputs": [],
   "source": [
    "run(Xd2_train,yd2_train,Xd2_train_weights,False,600)"
   ]
  },
  {
   "cell_type": "code",
   "execution_count": null,
   "metadata": {
    "colab": {},
    "colab_type": "code",
    "id": "YMhfIKaAWIDR"
   },
   "outputs": [],
   "source": [
    "run(Xd2_train,yd2_train,Xd2_train_weights,True,100)"
   ]
  },
  {
   "cell_type": "code",
   "execution_count": null,
   "metadata": {
    "colab": {},
    "colab_type": "code",
    "id": "X-qrCaipKXR3"
   },
   "outputs": [],
   "source": [
    "Xd1Ein = calc_error(Xd2_train,yd2_train,Xd2_train_weights)\n",
    "print(Xd1Ein)"
   ]
  },
  {
   "cell_type": "code",
   "execution_count": null,
   "metadata": {
    "colab": {},
    "colab_type": "code",
    "id": "NSCxbxvuXZnc"
   },
   "outputs": [],
   "source": [
    "XdiEout = Xd1Ein = calc_error(Xd2_test,yd2_test,Xd2_train_weights)\n",
    "print(XdiEout)"
   ]
  },
  {
   "cell_type": "markdown",
   "metadata": {
    "colab_type": "text",
    "id": "eIt6iMV1SrGR"
   },
   "source": [
    "Given the data in this the second selection doesnt perform well as there is no correlation in the fields the algorithm performs badly on this data as the data is not lineraly seperable. This was used as experiment to see just how bad it performs while choosing an incorrect dataset. The dataset is not suitable to the question of given a n individuals age, balance would you be able to predict would they be given a loan."
   ]
  },
  {
   "cell_type": "markdown",
   "metadata": {
    "colab_type": "text",
    "id": "9pcYQUIzKXR4"
   },
   "source": [
    "# Test using variables that dont have any strong correlation"
   ]
  },
  {
   "cell_type": "markdown",
   "metadata": {
    "colab_type": "text",
    "id": "5FWUSLG7KXR6"
   },
   "source": [
    "# Once you are satisfied you understand these results, run the PLA algorithm on the dataset you have explored in the previous tasks (using the selected dependent variable and the two most promising numerical attributes/features). If results are unsatisfactory (if you don't get results at all, why would this be?), investigate how the PLA algorithm can be changed to improve the performance. Change the provided algorithm accordingly and plot estimates for P[Ein-Eout|>e]. Exercise 1.10 (see Python code below in the Resources section) gives an example of how you can create such plots. In the same plot add the Hoeffding Bound  and conclude whether or not the found results obey the Hoeffding Equation (in a markdown cell). Draw conclusions on whether or not you have found proof that learning is possible (in a markdown cell)."
   ]
  },
  {
   "cell_type": "markdown",
   "metadata": {
    "colab_type": "text",
    "id": "qLZJxQP3KXR7"
   },
   "source": [
    "> *\"Pocket Algorithm : Take the best result and put in 'pocket' keep the best solution. when you get a better one throw it and keep new one. NOTE: PLA but just has memory\"*"
   ]
  },
  {
   "cell_type": "markdown",
   "metadata": {
    "colab_type": "text",
    "id": "l92TuC4NKXR-"
   },
   "source": [
    "#### References\n",
    "* [1] [Implementing PLA] (https://machinelearningmastery.com/implement-perceptron-algorithm-scratch-python/)\n",
    "* [2] [Reference Slides] (http://www.cs.rpi.edu/~magdon/courses/LFD-Slides/SlidesLect02.pdf)\n",
    "* [3] [PLA Algorithm] (http://www.insightsbot.com/blog/C8Fm4/perceptron-algorithm-part-2-python-code-machine-learning-101)\n",
    "* [4] [Scikitlearn Reference] (https://www.youtube.com/watch?v=oLane_Vh3CU)\n",
    "* [5] [Logistic Regression] (https://datascienceplus.com/building-a-logistic-regression-in-python-step-by-step/)\n",
    "* [6] [Perceptron Reference] (https://www.jilp.org/cbp/Daniel-slides.PDF)\n",
    "\n",
    "[Muselli, M. (1997) On convergence properties of pocket algorithm. Neural Networks, IEEE Transactions on. [Online] 8 (3), 623–629.]\n",
    "\n",
    "Code Reference:\n",
    "Martin P,\n",
    "Aidan K"
   ]
  }
 ],
 "metadata": {
  "accelerator": "TPU",
  "colab": {
   "collapsed_sections": [
    "H_HOpEqPKXQu",
    "tpPG40V2KXQv",
    "Jv7q__eWKXRA",
    "l92TuC4NKXR-"
   ],
   "name": "Etivity1_18203485.ipynb",
   "provenance": [],
   "version": "0.3.2"
  },
  "kernelspec": {
   "display_name": "Python 3",
   "language": "python",
   "name": "python3"
  },
  "language_info": {
   "codemirror_mode": {
    "name": "ipython",
    "version": 3
   },
   "file_extension": ".py",
   "mimetype": "text/x-python",
   "name": "python",
   "nbconvert_exporter": "python",
   "pygments_lexer": "ipython3",
   "version": "3.6.7"
  }
 },
 "nbformat": 4,
 "nbformat_minor": 1
}
