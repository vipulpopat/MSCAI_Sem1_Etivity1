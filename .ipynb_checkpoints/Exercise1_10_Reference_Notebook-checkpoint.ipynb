{
 "cells": [
  {
   "cell_type": "markdown",
   "metadata": {},
   "source": [
    "Exercise 1.10"
   ]
  },
  {
   "cell_type": "markdown",
   "metadata": {},
   "source": [
    "This coin flipping experiment simulates the issues that you will experience if applying Hoeffding's Inequality to multipe bins. Please read pages 16 - 42 of 'Learning from data - A short course' carefully. Whilst digesting this experiment and understanding its rammifications, please answer the following questions:\n",
    "\n",
    "-  What variable in the experiment represents the number of bins from Fig. 1.10?\n",
    "-  What variable in the experiment represents the number of training samples?\n",
    "-  What coins obey the Hoeffding Inequality and why?\n",
    "-  What is the parallel with Ein and Eout (in-sample and out-of-sample error) respectively as is suggested in the book?"
   ]
  },
  {
   "cell_type": "code",
   "execution_count": 1,
   "metadata": {},
   "outputs": [],
   "source": [
    "import random as rnd\n",
    "import matplotlib.pyplot as plt\n",
    "import numpy as np\n",
    "import math"
   ]
  },
  {
   "cell_type": "code",
   "execution_count": 2,
   "metadata": {},
   "outputs": [],
   "source": [
    "numCoins = 1000\n",
    "N=10\n",
    "repeats = 10000"
   ]
  },
  {
   "cell_type": "code",
   "execution_count": 3,
   "metadata": {},
   "outputs": [],
   "source": [
    "def flip():\n",
    "    rnd.seed()\n",
    "    return rnd.randint(0,1)"
   ]
  },
  {
   "cell_type": "code",
   "execution_count": 4,
   "metadata": {},
   "outputs": [],
   "source": [
    "def experiment():\n",
    "    outcomes = []\n",
    "    for i in range(numCoins):\n",
    "        out=0\n",
    "        for flips in range(N):\n",
    "            out += flip()\n",
    "        outcomes.append(out/N)\n",
    "    v_1 = outcomes[0]\n",
    "    v_rand = outcomes[rnd.randint(0,numCoins-1)]\n",
    "    v_min = min(outcomes)\n",
    "    return v_1,v_rand,v_min"
   ]
  },
  {
   "cell_type": "code",
   "execution_count": null,
   "metadata": {},
   "outputs": [],
   "source": [
    "dist_1 = []\n",
    "dist_rand=[]\n",
    "dist_min=[]\n",
    "lists = [dist_1, dist_rand, dist_min]\n",
    "for e in range(repeats):\n",
    "    for x, lst in zip(experiment(), lists):\n",
    "        lst.append(x)\n",
    "\n",
    "\n",
    "plt.hist(lists[0])\n",
    "plt.title('Distribution first coin')\n",
    "plt.show()\n",
    "\n",
    "plt.hist(lists[1])\n",
    "plt.title('Distribution random coin')\n",
    "plt.show()\n",
    "\n",
    "plt.hist(lists[2])\n",
    "plt.title('Distribution minimum coin')\n",
    "plt.show()"
   ]
  },
  {
   "cell_type": "code",
   "execution_count": null,
   "metadata": {},
   "outputs": [],
   "source": [
    "titles = [\"First\", \"Random\", \"Min\"]\n",
    "for d in range(0,3):\n",
    "    dist = lists[d]\n",
    "    prob_epsilon=[]\n",
    "    epsilons = np.arange(0, 1, 0.01)\n",
    "    for e in epsilons:\n",
    "        prob_epsilon.append(len([1 for i in dist if abs(i-0.5) > e])/len(dist))\n",
    "    \n",
    "    plt.figure()\n",
    "    plt.plot(epsilons, prob_epsilon)\n",
    "    plt.plot(epsilons, [2*math.exp(-2*e**2*N) for e in epsilons])\n",
    "    plt.title(titles[d])\n",
    "    plt.show"
   ]
  },
  {
   "cell_type": "code",
   "execution_count": null,
   "metadata": {},
   "outputs": [],
   "source": []
  }
 ],
 "metadata": {
  "kernelspec": {
   "display_name": "Python 3",
   "language": "python",
   "name": "python3"
  },
  "language_info": {
   "codemirror_mode": {
    "name": "ipython",
    "version": 3
   },
   "file_extension": ".py",
   "mimetype": "text/x-python",
   "name": "python",
   "nbconvert_exporter": "python",
   "pygments_lexer": "ipython3",
   "version": "3.6.7"
  }
 },
 "nbformat": 4,
 "nbformat_minor": 2
}
